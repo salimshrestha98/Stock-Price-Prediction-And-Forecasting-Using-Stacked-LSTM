{
  "nbformat": 4,
  "nbformat_minor": 0,
  "metadata": {
    "colab": {
      "provenance": [],
      "authorship_tag": "ABX9TyPWZgu5yWlEmpTpGwi0jBV5"
    },
    "kernelspec": {
      "name": "python3",
      "display_name": "Python 3"
    },
    "language_info": {
      "name": "python"
    }
  },
  "cells": [
    {
      "cell_type": "markdown",
      "source": [
        "### **Stock Price Prediction And Forecasting Using Stacked LSTM- Deep Learning**"
      ],
      "metadata": {
        "id": "SjOS9gGgGiQo"
      }
    },
    {
      "cell_type": "code",
      "source": [
        "import numpy as np\n",
        "import pandas as pd\n",
        "import matplotlib.pyplot as plt"
      ],
      "metadata": {
        "id": "4EicQS6DGoUX"
      },
      "execution_count": 1,
      "outputs": []
    },
    {
      "cell_type": "code",
      "source": [
        "df = pd.read_csv('https://github.com/salimshrestha98/Stock-Price-Prediction-And-Forecasting-Using-Stacked-LSTM/raw/main/data/ALICL.csv', index_col='Date')"
      ],
      "metadata": {
        "id": "OG4YL5xmGxwT"
      },
      "execution_count": 2,
      "outputs": []
    },
    {
      "cell_type": "code",
      "source": [
        "## Only extract the Close price column.\n",
        "df1 = df.c"
      ],
      "metadata": {
        "id": "s373gJA0HAp4"
      },
      "execution_count": 3,
      "outputs": []
    },
    {
      "cell_type": "code",
      "source": [
        "plt.plot(df1)\n",
        "plt.title('Stock chart of ALICL')\n",
        "plt.ylabel('Price')\n",
        "plt.show()"
      ],
      "metadata": {
        "colab": {
          "base_uri": "https://localhost:8080/",
          "height": 281
        },
        "id": "bLZkODLbHeEE",
        "outputId": "c417372b-58f7-4ffe-dcc6-580eb65199d9"
      },
      "execution_count": 4,
      "outputs": [
        {
          "output_type": "display_data",
          "data": {
            "text/plain": [
              "<Figure size 432x288 with 1 Axes>"
            ],
            "image/png": "[encoded data removed]"
          },
          "metadata": {
            "needs_background": "light"
          }
        }
      ]
    },
    {
      "cell_type": "code",
      "source": [
        "from sklearn.preprocessing import MinMaxScaler\n",
        "scaler = MinMaxScaler( feature_range=(0,1) )\n",
        "df1 = scaler.fit_transform(np.array(df1).reshape(-1,1))"
      ],
      "metadata": {
        "id": "Pgtr-FRHJmNp"
      },
      "execution_count": 5,
      "outputs": []
    },
    {
      "cell_type": "markdown",
      "source": [
        "Explaination:\n",
        "\n",
        "---\n",
        "\n",
        "Here, we scale the price index between zero(0) and one(1). For this purpose we utilize the MinMaxScaler provided by the sklearn library.\n",
        "We convert the data into one dimensional numpy array before feeding it to the scaler."
      ],
      "metadata": {
        "id": "POCjTm9VOL6l"
      }
    },
    {
      "cell_type": "markdown",
      "source": [
        "**Train Test Split**\n",
        "\n",
        "---\n",
        "\n",
        "\n",
        "We have many ways to split the data into train and test sets.  \n",
        "But, with time series data, we cannot split the data on random.  \n",
        "So, here we take 65% of our data as train data and remaining data as test data."
      ],
      "metadata": {
        "id": "M7_kiTVNP31m"
      }
    },
    {
      "cell_type": "code",
      "source": [
        "training_size = int(len(df1)*0.65)\n",
        "test_size = len(df1) - training_size\n",
        "train_data, test_data = df1[:training_size, :], df1[training_size:len(df1), :]"
      ],
      "metadata": {
        "id": "o1OCJW8uQdEf"
      },
      "execution_count": 6,
      "outputs": []
    },
    {
      "cell_type": "code",
      "source": [
        "training_size,test_size"
      ],
      "metadata": {
        "colab": {
          "base_uri": "https://localhost:8080/"
        },
        "id": "9lGcKK02Q9_8",
        "outputId": "1b4ab75f-dbef-4d4f-ea42-ddc1005d5a52"
      },
      "execution_count": 7,
      "outputs": [
        {
          "output_type": "execute_result",
          "data": {
            "text/plain": [
              "(1553, 837)"
            ]
          },
          "metadata": {},
          "execution_count": 7
        }
      ]
    },
    {
      "cell_type": "markdown",
      "source": [
        "Now, we have 1553 instances in our training set and 837 instances in our test set."
      ],
      "metadata": {
        "id": "FR105F4WRG7h"
      }
    },
    {
      "cell_type": "markdown",
      "source": [
        "Computing Timesteps\n",
        "\n",
        "---\n",
        "\n",
        "Timesteps are the number of previous values to use to predict the next value.\n",
        "[See Example Here](https://prnt.sc/r8--zzZ_Pb2v)  \n",
        "Now, we convert an array of values into a dataset matrix."
      ],
      "metadata": {
        "id": "wSwMfUZGRwS9"
      }
    },
    {
      "cell_type": "code",
      "source": [
        "def create_dataset( dataset, time_step=1 ):\n",
        "  dataX, dataY = [], []\n",
        "  for i in range( len(dataset) - time_step - 1 ):\n",
        "    a = dataset[i:(i+time_step), 0]\n",
        "    dataX.append(a)\n",
        "    dataY.append(dataset[i + time_step, 0])\n",
        "  return np.array(dataX), np.array(dataY)"
      ],
      "metadata": {
        "id": "1HW5tFjUSUh7"
      },
      "execution_count": 8,
      "outputs": []
    },
    {
      "cell_type": "markdown",
      "source": [
        "Suppose the initial dataset is as follows:  \n",
        "`dataset = [10, 12, 14, 16, 18, 20]`  \n",
        "And, the time step is 3:  \n",
        "`time_step = 3`  \n",
        "\n",
        "Iteration 1:\n",
        "```\n",
        "i = 0\n",
        "a = [10, 12, 14]\n",
        "dataX = [[10, 12, 14]]\n",
        "dataY = [16]\n",
        "```\n",
        "\n",
        "Iteration 2:\n",
        "```\n",
        "i = 1\n",
        "a = [12, 14, 16]\n",
        "dataX = [[10, 12, 14], [12, 14, 16]]\n",
        "dataY = [16, 18]\n",
        "```\n",
        "\n",
        "Iteration 3:\n",
        "```\n",
        "i = 2\n",
        "a = [14, 16, 18]\n",
        "dataX = [[10, 12, 14], [12, 14, 16], [14, 16, 18]]\n",
        "dataY = [16, 18, 20]\n",
        "```\n",
        "\n",
        "So, finally we get:\n",
        "```\n",
        "x1   x2   x3  | o/p\n",
        "10   12   14  | 16\n",
        "12   14   16  | 18\n",
        "14   16   18  | 20\n",
        "```"
      ],
      "metadata": {
        "id": "8_fnYArsUmfu"
      }
    },
    {
      "cell_type": "code",
      "source": [
        "time_step = 100\n",
        "X_train, y_train = create_dataset( train_data, time_step)\n",
        "X_test, y_test = create_dataset( test_data, time_step)"
      ],
      "metadata": {
        "id": "WiLnpCBPRBAm"
      },
      "execution_count": 9,
      "outputs": []
    },
    {
      "cell_type": "code",
      "source": [
        "X_train.shape, y_train.shape"
      ],
      "metadata": {
        "colab": {
          "base_uri": "https://localhost:8080/"
        },
        "id": "73OQJz74XQc1",
        "outputId": "b504bca9-d215-48ef-9e05-97c36ce0274e"
      },
      "execution_count": 10,
      "outputs": [
        {
          "output_type": "execute_result",
          "data": {
            "text/plain": [
              "((1452, 100), (1452,))"
            ]
          },
          "metadata": {},
          "execution_count": 10
        }
      ]
    },
    {
      "cell_type": "code",
      "source": [
        "X_test.shape, y_test.shape"
      ],
      "metadata": {
        "colab": {
          "base_uri": "https://localhost:8080/"
        },
        "id": "yUPlPTv_Xcie",
        "outputId": "eb7fd674-87cd-4c39-e003-16e24c55ef00"
      },
      "execution_count": 11,
      "outputs": [
        {
          "output_type": "execute_result",
          "data": {
            "text/plain": [
              "((736, 100), (736,))"
            ]
          },
          "metadata": {},
          "execution_count": 11
        }
      ]
    },
    {
      "cell_type": "markdown",
      "source": [
        "Currently, our data is two dimensional.  \n",
        "We need to reshape the input into three dimensions to feed into LSTM model.  \n",
        "Dimension 1: Samples  \n",
        "Dimension 2: Time Steps  \n",
        "Dimension 3: Features  "
      ],
      "metadata": {
        "id": "yLQM7yMwYEfE"
      }
    },
    {
      "cell_type": "code",
      "source": [
        "print(\"X_train before reshape: \")\n",
        "print(X_train[0])"
      ],
      "metadata": {
        "id": "DsUdBCgVYrnB",
        "outputId": "3f71b623-8144-45d2-e8d7-6c964ba68726",
        "colab": {
          "base_uri": "https://localhost:8080/"
        }
      },
      "execution_count": 12,
      "outputs": [
        {
          "output_type": "stream",
          "name": "stdout",
          "text": [
            "X_train before reshape: \n",
            "[0.00211004 0.00310299 0.00347535 0.00273063 0.0024824  0.00285475\n",
            " 0.00260651 0.00285475 0.00297887 0.00335123 0.00322711 0.00310299\n",
            " 0.00173768 0.00173768 0.00049648 0.00012412 0.00086884 0.\n",
            " 0.         0.00024824 0.00148944 0.00198592 0.0012412  0.00099296\n",
            " 0.00086884 0.00099296 0.0006206  0.0006206  0.00037236 0.00024824\n",
            " 0.00012412 0.00099296 0.00024824 0.00074472 0.00086884 0.00086884\n",
            " 0.00099296 0.00099296 0.00148944 0.00148944 0.00297887 0.00335123\n",
            " 0.00359947 0.00397183 0.00471655 0.00533715 0.00533715 0.00744719\n",
            " 0.00992958 0.0106743  0.00968134 0.0106743  0.01166726 0.01166726\n",
            " 0.00893662 0.00806778 0.00657835 0.00459243 0.00570951 0.00719895\n",
            " 0.00707483 0.0094331  0.00781954 0.00682659 0.00806778 0.00968134\n",
            " 0.00633011 0.00446831 0.00670247 0.00781954 0.00806778 0.00794366\n",
            " 0.00757131 0.00781954 0.00682659 0.00670247 0.00719895 0.00670247\n",
            " 0.00622088 0.00858536 0.00842773 0.00700904 0.00622088 0.00858536\n",
            " 0.00953116 0.01142274 0.01047695 0.01094984 0.0122109  0.01236853\n",
            " 0.01142274 0.01094984 0.01079221 0.01079221 0.01079221 0.01173801\n",
            " 0.01189564 0.01236853 0.01158037 0.01110748]\n"
          ]
        }
      ]
    },
    {
      "cell_type": "code",
      "source": [
        "X_train = X_train.reshape(X_train.shape[0], X_train.shape[1], 1)\n",
        "X_test = X_test.reshape(X_test.shape[0], X_test.shape[1], 1)"
      ],
      "metadata": {
        "id": "yq4wqtvUXeFg"
      },
      "execution_count": 13,
      "outputs": []
    },
    {
      "cell_type": "code",
      "source": [
        "print(\"X_train after reshape: \")\n",
        "print(X_train[0])"
      ],
      "metadata": {
        "id": "l0UtHsoQY319",
        "outputId": "06847eca-e414-4c01-d2c7-2985e7591794",
        "colab": {
          "base_uri": "https://localhost:8080/"
        }
      },
      "execution_count": 14,
      "outputs": [
        {
          "output_type": "stream",
          "name": "stdout",
          "text": [
            "X_train after reshape: \n",
            "[[0.00211004]\n",
            " [0.00310299]\n",
            " [0.00347535]\n",
            " [0.00273063]\n",
            " [0.0024824 ]\n",
            " [0.00285475]\n",
            " [0.00260651]\n",
            " [0.00285475]\n",
            " [0.00297887]\n",
            " [0.00335123]\n",
            " [0.00322711]\n",
            " [0.00310299]\n",
            " [0.00173768]\n",
            " [0.00173768]\n",
            " [0.00049648]\n",
            " [0.00012412]\n",
            " [0.00086884]\n",
            " [0.        ]\n",
            " [0.        ]\n",
            " [0.00024824]\n",
            " [0.00148944]\n",
            " [0.00198592]\n",
            " [0.0012412 ]\n",
            " [0.00099296]\n",
            " [0.00086884]\n",
            " [0.00099296]\n",
            " [0.0006206 ]\n",
            " [0.0006206 ]\n",
            " [0.00037236]\n",
            " [0.00024824]\n",
            " [0.00012412]\n",
            " [0.00099296]\n",
            " [0.00024824]\n",
            " [0.00074472]\n",
            " [0.00086884]\n",
            " [0.00086884]\n",
            " [0.00099296]\n",
            " [0.00099296]\n",
            " [0.00148944]\n",
            " [0.00148944]\n",
            " [0.00297887]\n",
            " [0.00335123]\n",
            " [0.00359947]\n",
            " [0.00397183]\n",
            " [0.00471655]\n",
            " [0.00533715]\n",
            " [0.00533715]\n",
            " [0.00744719]\n",
            " [0.00992958]\n",
            " [0.0106743 ]\n",
            " [0.00968134]\n",
            " [0.0106743 ]\n",
            " [0.01166726]\n",
            " [0.01166726]\n",
            " [0.00893662]\n",
            " [0.00806778]\n",
            " [0.00657835]\n",
            " [0.00459243]\n",
            " [0.00570951]\n",
            " [0.00719895]\n",
            " [0.00707483]\n",
            " [0.0094331 ]\n",
            " [0.00781954]\n",
            " [0.00682659]\n",
            " [0.00806778]\n",
            " [0.00968134]\n",
            " [0.00633011]\n",
            " [0.00446831]\n",
            " [0.00670247]\n",
            " [0.00781954]\n",
            " [0.00806778]\n",
            " [0.00794366]\n",
            " [0.00757131]\n",
            " [0.00781954]\n",
            " [0.00682659]\n",
            " [0.00670247]\n",
            " [0.00719895]\n",
            " [0.00670247]\n",
            " [0.00622088]\n",
            " [0.00858536]\n",
            " [0.00842773]\n",
            " [0.00700904]\n",
            " [0.00622088]\n",
            " [0.00858536]\n",
            " [0.00953116]\n",
            " [0.01142274]\n",
            " [0.01047695]\n",
            " [0.01094984]\n",
            " [0.0122109 ]\n",
            " [0.01236853]\n",
            " [0.01142274]\n",
            " [0.01094984]\n",
            " [0.01079221]\n",
            " [0.01079221]\n",
            " [0.01079221]\n",
            " [0.01173801]\n",
            " [0.01189564]\n",
            " [0.01236853]\n",
            " [0.01158037]\n",
            " [0.01110748]]\n"
          ]
        }
      ]
    },
    {
      "cell_type": "markdown",
      "source": [
        "## Creating the Stacked LSTM model\n",
        "\n",
        "---\n",
        "\n",
        "### What is Stacked LSTM?  \n",
        "The original LSTM model is comprised of a single hidden LSTM layer followed by a standard feedforward output layer.\n",
        "\n",
        "The Stacked LSTM is an extension to this model that has multiple hidden LSTM layers where each layer contains multiple memory cells.  \n",
        "[Read More](https://machinelearningmastery.com/stacked-long-short-term-memory-networks/)\n",
        "\n",
        "<img src=\"https://www.researchgate.net/publication/308837697/figure/fig1/AS:588802431143936@1517392847718/Stacked-Deep-LSTM-Network-Architecture.png\" height='300'>"
      ],
      "metadata": {
        "id": "oK0T3YJ6d974"
      }
    },
    {
      "cell_type": "code",
      "source": [
        "from tensorflow.keras.models import Sequential\n",
        "from tensorflow.keras.layers import Dense\n",
        "from tensorflow.keras.layers import LSTM"
      ],
      "metadata": {
        "id": "DgZi3pJbd17Q"
      },
      "execution_count": 15,
      "outputs": []
    },
    {
      "cell_type": "code",
      "source": [
        "model = Sequential()\n",
        "model.add(LSTM(50, return_sequences=True, input_shape=(100,1)))\n",
        "model.add(LSTM(50, return_sequences=True))\n",
        "model.add(LSTM(50))\n",
        "model.add(Dense(1))\n",
        "model.compile(loss='mean_squared_error', optimizer='adam')"
      ],
      "metadata": {
        "id": "z48ehDAMePT9"
      },
      "execution_count": 16,
      "outputs": []
    },
    {
      "cell_type": "code",
      "source": [
        "model.summary()"
      ],
      "metadata": {
        "id": "PtbSMLgDg6_w",
        "outputId": "b6d3d6fc-48ff-413b-a6c0-139bcfe4ae86",
        "colab": {
          "base_uri": "https://localhost:8080/"
        }
      },
      "execution_count": 17,
      "outputs": [
        {
          "output_type": "stream",
          "name": "stdout",
          "text": [
            "Model: \"sequential\"\n",
            "_________________________________________________________________\n",
            " Layer (type)                Output Shape              Param #   \n",
            "=================================================================\n",
            " lstm (LSTM)                 (None, 100, 50)           10400     \n",
            "                                                                 \n",
            " lstm_1 (LSTM)               (None, 100, 50)           20200     \n",
            "                                                                 \n",
            " lstm_2 (LSTM)               (None, 50)                20200     \n",
            "                                                                 \n",
            " dense (Dense)               (None, 1)                 51        \n",
            "                                                                 \n",
            "=================================================================\n",
            "Total params: 50,851\n",
            "Trainable params: 50,851\n",
            "Non-trainable params: 0\n",
            "_________________________________________________________________\n"
          ]
        }
      ]
    },
    {
      "cell_type": "code",
      "source": [
        "model.fit(X_train, y_train, validation_data=(X_test, y_test), epochs=100, batch_size=64, verbose=1)"
      ],
      "metadata": {
        "id": "st2tTb0jhD4B",
        "outputId": "834f1dbe-bf42-4c9f-d5bc-71160c75e244",
        "colab": {
          "base_uri": "https://localhost:8080/"
        }
      },
      "execution_count": 18,
      "outputs": [
        {
          "output_type": "stream",
          "name": "stdout",
          "text": [
            "Epoch 1/100\n",
            "23/23 [==============================] - 13s 277ms/step - loss: 0.0118 - val_loss: 0.0050\n",
            "Epoch 2/100\n",
            "23/23 [==============================] - 5s 231ms/step - loss: 9.6052e-04 - val_loss: 0.0033\n",
            "Epoch 3/100\n",
            "23/23 [==============================] - 6s 238ms/step - loss: 5.1461e-04 - val_loss: 0.0033\n",
            "Epoch 4/100\n",
            "23/23 [==============================] - 5s 210ms/step - loss: 4.6196e-04 - val_loss: 0.0035\n",
            "Epoch 5/100\n",
            "23/23 [==============================] - 5s 210ms/step - loss: 4.5229e-04 - val_loss: 0.0051\n",
            "Epoch 6/100\n",
            "23/23 [==============================] - 5s 211ms/step - loss: 4.6013e-04 - val_loss: 0.0037\n",
            "Epoch 7/100\n",
            "23/23 [==============================] - 5s 211ms/step - loss: 4.1160e-04 - val_loss: 0.0047\n",
            "Epoch 8/100\n",
            "23/23 [==============================] - 5s 236ms/step - loss: 4.2706e-04 - val_loss: 0.0027\n",
            "Epoch 9/100\n",
            "23/23 [==============================] - 5s 210ms/step - loss: 4.0502e-04 - val_loss: 0.0035\n",
            "Epoch 10/100\n",
            "23/23 [==============================] - 5s 209ms/step - loss: 3.5671e-04 - val_loss: 0.0038\n",
            "Epoch 11/100\n",
            "23/23 [==============================] - 5s 232ms/step - loss: 3.3954e-04 - val_loss: 0.0044\n",
            "Epoch 12/100\n",
            "23/23 [==============================] - 5s 212ms/step - loss: 3.2364e-04 - val_loss: 0.0052\n",
            "Epoch 13/100\n",
            "23/23 [==============================] - 5s 210ms/step - loss: 3.1491e-04 - val_loss: 0.0043\n",
            "Epoch 14/100\n",
            "23/23 [==============================] - 5s 233ms/step - loss: 2.9681e-04 - val_loss: 0.0044\n",
            "Epoch 15/100\n",
            "23/23 [==============================] - 5s 232ms/step - loss: 3.0143e-04 - val_loss: 0.0045\n",
            "Epoch 16/100\n",
            "23/23 [==============================] - 5s 210ms/step - loss: 2.7600e-04 - val_loss: 0.0030\n",
            "Epoch 17/100\n",
            "23/23 [==============================] - 5s 209ms/step - loss: 2.8572e-04 - val_loss: 0.0033\n",
            "Epoch 18/100\n",
            "23/23 [==============================] - 5s 211ms/step - loss: 2.5612e-04 - val_loss: 0.0035\n",
            "Epoch 19/100\n",
            "23/23 [==============================] - 5s 211ms/step - loss: 2.6992e-04 - val_loss: 0.0033\n",
            "Epoch 20/100\n",
            "23/23 [==============================] - 5s 210ms/step - loss: 2.4807e-04 - val_loss: 0.0023\n",
            "Epoch 21/100\n",
            "23/23 [==============================] - 5s 213ms/step - loss: 2.3786e-04 - val_loss: 0.0022\n",
            "Epoch 22/100\n",
            "23/23 [==============================] - 5s 213ms/step - loss: 2.5529e-04 - val_loss: 0.0024\n",
            "Epoch 23/100\n",
            "23/23 [==============================] - 6s 255ms/step - loss: 2.6592e-04 - val_loss: 0.0029\n",
            "Epoch 24/100\n",
            "23/23 [==============================] - 5s 215ms/step - loss: 2.4110e-04 - val_loss: 0.0033\n",
            "Epoch 25/100\n",
            "23/23 [==============================] - 5s 214ms/step - loss: 2.1263e-04 - val_loss: 0.0033\n",
            "Epoch 26/100\n",
            "23/23 [==============================] - 5s 212ms/step - loss: 2.2700e-04 - val_loss: 0.0014\n",
            "Epoch 27/100\n",
            "23/23 [==============================] - 6s 267ms/step - loss: 2.4981e-04 - val_loss: 0.0021\n",
            "Epoch 28/100\n",
            "23/23 [==============================] - 5s 211ms/step - loss: 2.0034e-04 - val_loss: 0.0017\n",
            "Epoch 29/100\n",
            "23/23 [==============================] - 5s 210ms/step - loss: 2.0538e-04 - val_loss: 0.0012\n",
            "Epoch 30/100\n",
            "23/23 [==============================] - 5s 212ms/step - loss: 2.1977e-04 - val_loss: 0.0014\n",
            "Epoch 31/100\n",
            "23/23 [==============================] - 5s 212ms/step - loss: 2.1613e-04 - val_loss: 0.0023\n",
            "Epoch 32/100\n",
            "23/23 [==============================] - 5s 213ms/step - loss: 1.9584e-04 - val_loss: 0.0025\n",
            "Epoch 33/100\n",
            "23/23 [==============================] - 5s 211ms/step - loss: 1.9793e-04 - val_loss: 0.0011\n",
            "Epoch 34/100\n",
            "23/23 [==============================] - 5s 214ms/step - loss: 1.9451e-04 - val_loss: 0.0015\n",
            "Epoch 35/100\n",
            "23/23 [==============================] - 5s 213ms/step - loss: 1.8137e-04 - val_loss: 9.0890e-04\n",
            "Epoch 36/100\n",
            "23/23 [==============================] - 5s 214ms/step - loss: 1.7470e-04 - val_loss: 0.0010\n",
            "Epoch 37/100\n",
            "23/23 [==============================] - 5s 214ms/step - loss: 1.6581e-04 - val_loss: 0.0013\n",
            "Epoch 38/100\n",
            "23/23 [==============================] - 5s 212ms/step - loss: 1.7033e-04 - val_loss: 8.8502e-04\n",
            "Epoch 39/100\n",
            "23/23 [==============================] - 6s 266ms/step - loss: 1.7464e-04 - val_loss: 0.0011\n",
            "Epoch 40/100\n",
            "23/23 [==============================] - 5s 216ms/step - loss: 1.6776e-04 - val_loss: 0.0015\n",
            "Epoch 41/100\n",
            "23/23 [==============================] - 5s 214ms/step - loss: 1.6047e-04 - val_loss: 0.0010\n",
            "Epoch 42/100\n",
            "23/23 [==============================] - 5s 217ms/step - loss: 1.6244e-04 - val_loss: 7.3410e-04\n",
            "Epoch 43/100\n",
            "23/23 [==============================] - 5s 214ms/step - loss: 1.6494e-04 - val_loss: 0.0021\n",
            "Epoch 44/100\n",
            "23/23 [==============================] - 5s 212ms/step - loss: 1.7499e-04 - val_loss: 7.1042e-04\n",
            "Epoch 45/100\n",
            "23/23 [==============================] - 10s 433ms/step - loss: 1.9669e-04 - val_loss: 0.0013\n",
            "Epoch 46/100\n",
            "23/23 [==============================] - 10s 441ms/step - loss: 1.5016e-04 - val_loss: 7.1059e-04\n",
            "Epoch 47/100\n",
            "23/23 [==============================] - 9s 402ms/step - loss: 1.4450e-04 - val_loss: 8.0454e-04\n",
            "Epoch 48/100\n",
            "23/23 [==============================] - 8s 355ms/step - loss: 1.4552e-04 - val_loss: 6.6202e-04\n",
            "Epoch 49/100\n",
            "23/23 [==============================] - 5s 235ms/step - loss: 1.5529e-04 - val_loss: 0.0011\n",
            "Epoch 50/100\n",
            "23/23 [==============================] - 5s 216ms/step - loss: 1.4181e-04 - val_loss: 0.0011\n",
            "Epoch 51/100\n",
            "23/23 [==============================] - 5s 212ms/step - loss: 1.3495e-04 - val_loss: 6.6944e-04\n",
            "Epoch 52/100\n",
            "23/23 [==============================] - 5s 213ms/step - loss: 1.3627e-04 - val_loss: 6.1216e-04\n",
            "Epoch 53/100\n",
            "23/23 [==============================] - 5s 212ms/step - loss: 1.3502e-04 - val_loss: 6.0186e-04\n",
            "Epoch 54/100\n",
            "23/23 [==============================] - 5s 214ms/step - loss: 1.2947e-04 - val_loss: 6.9741e-04\n",
            "Epoch 55/100\n",
            "23/23 [==============================] - 5s 214ms/step - loss: 1.3723e-04 - val_loss: 8.6670e-04\n",
            "Epoch 56/100\n",
            "23/23 [==============================] - 7s 330ms/step - loss: 1.4036e-04 - val_loss: 6.1787e-04\n",
            "Epoch 57/100\n",
            "23/23 [==============================] - 5s 214ms/step - loss: 1.4874e-04 - val_loss: 5.8032e-04\n",
            "Epoch 58/100\n",
            "23/23 [==============================] - 5s 234ms/step - loss: 1.4620e-04 - val_loss: 6.8048e-04\n",
            "Epoch 59/100\n",
            "23/23 [==============================] - 6s 265ms/step - loss: 1.2378e-04 - val_loss: 5.6270e-04\n",
            "Epoch 60/100\n",
            "23/23 [==============================] - 5s 212ms/step - loss: 1.2004e-04 - val_loss: 5.6062e-04\n",
            "Epoch 61/100\n",
            "23/23 [==============================] - 5s 213ms/step - loss: 1.2508e-04 - val_loss: 6.6076e-04\n",
            "Epoch 62/100\n",
            "23/23 [==============================] - 7s 312ms/step - loss: 1.1696e-04 - val_loss: 6.3182e-04\n",
            "Epoch 63/100\n",
            "23/23 [==============================] - 10s 450ms/step - loss: 1.2566e-04 - val_loss: 6.5222e-04\n",
            "Epoch 64/100\n",
            "23/23 [==============================] - 9s 385ms/step - loss: 1.1919e-04 - val_loss: 5.0606e-04\n",
            "Epoch 65/100\n",
            "23/23 [==============================] - 10s 428ms/step - loss: 1.1802e-04 - val_loss: 5.4367e-04\n",
            "Epoch 66/100\n",
            "23/23 [==============================] - 6s 262ms/step - loss: 1.1582e-04 - val_loss: 4.9160e-04\n",
            "Epoch 67/100\n",
            "23/23 [==============================] - 8s 339ms/step - loss: 1.0763e-04 - val_loss: 5.5066e-04\n",
            "Epoch 68/100\n",
            "23/23 [==============================] - 7s 320ms/step - loss: 1.0556e-04 - val_loss: 5.6729e-04\n",
            "Epoch 69/100\n",
            "23/23 [==============================] - 7s 314ms/step - loss: 1.1805e-04 - val_loss: 6.4312e-04\n",
            "Epoch 70/100\n",
            "23/23 [==============================] - 7s 308ms/step - loss: 1.1188e-04 - val_loss: 4.6228e-04\n",
            "Epoch 71/100\n",
            "23/23 [==============================] - 9s 379ms/step - loss: 9.9426e-05 - val_loss: 6.5185e-04\n",
            "Epoch 72/100\n",
            "23/23 [==============================] - 6s 241ms/step - loss: 1.0819e-04 - val_loss: 5.9468e-04\n",
            "Epoch 73/100\n",
            "23/23 [==============================] - 6s 256ms/step - loss: 1.2192e-04 - val_loss: 7.6618e-04\n",
            "Epoch 74/100\n",
            "23/23 [==============================] - 5s 241ms/step - loss: 1.5330e-04 - val_loss: 4.3979e-04\n",
            "Epoch 75/100\n",
            "23/23 [==============================] - 6s 254ms/step - loss: 1.1384e-04 - val_loss: 4.3035e-04\n",
            "Epoch 76/100\n",
            "23/23 [==============================] - 8s 352ms/step - loss: 1.0611e-04 - val_loss: 4.7286e-04\n",
            "Epoch 77/100\n",
            "23/23 [==============================] - 9s 387ms/step - loss: 9.7498e-05 - val_loss: 4.1975e-04\n",
            "Epoch 78/100\n",
            "23/23 [==============================] - 8s 327ms/step - loss: 1.0058e-04 - val_loss: 4.5892e-04\n",
            "Epoch 79/100\n",
            "23/23 [==============================] - 5s 210ms/step - loss: 9.6729e-05 - val_loss: 4.5344e-04\n",
            "Epoch 80/100\n",
            "23/23 [==============================] - 5s 212ms/step - loss: 1.0598e-04 - val_loss: 4.4832e-04\n",
            "Epoch 81/100\n",
            "23/23 [==============================] - 5s 212ms/step - loss: 9.8650e-05 - val_loss: 4.6849e-04\n",
            "Epoch 82/100\n",
            "23/23 [==============================] - 5s 212ms/step - loss: 9.2643e-05 - val_loss: 5.5872e-04\n",
            "Epoch 83/100\n",
            "23/23 [==============================] - 6s 273ms/step - loss: 1.0370e-04 - val_loss: 3.9013e-04\n",
            "Epoch 84/100\n",
            "23/23 [==============================] - 5s 212ms/step - loss: 8.9675e-05 - val_loss: 5.9219e-04\n",
            "Epoch 85/100\n",
            "23/23 [==============================] - 8s 336ms/step - loss: 1.1304e-04 - val_loss: 6.6463e-04\n",
            "Epoch 86/100\n",
            "23/23 [==============================] - 6s 268ms/step - loss: 9.4859e-05 - val_loss: 4.0718e-04\n",
            "Epoch 87/100\n",
            "23/23 [==============================] - 6s 248ms/step - loss: 8.8069e-05 - val_loss: 3.6900e-04\n",
            "Epoch 88/100\n",
            "23/23 [==============================] - 6s 279ms/step - loss: 8.7802e-05 - val_loss: 3.8742e-04\n",
            "Epoch 89/100\n",
            "23/23 [==============================] - 5s 232ms/step - loss: 8.4473e-05 - val_loss: 4.3178e-04\n",
            "Epoch 90/100\n",
            "23/23 [==============================] - 5s 213ms/step - loss: 8.7553e-05 - val_loss: 3.5245e-04\n",
            "Epoch 91/100\n",
            "23/23 [==============================] - 5s 227ms/step - loss: 1.1193e-04 - val_loss: 5.5108e-04\n",
            "Epoch 92/100\n",
            "23/23 [==============================] - 7s 303ms/step - loss: 1.0164e-04 - val_loss: 3.4739e-04\n",
            "Epoch 93/100\n",
            "23/23 [==============================] - 8s 342ms/step - loss: 7.9903e-05 - val_loss: 3.3860e-04\n",
            "Epoch 94/100\n",
            "23/23 [==============================] - 6s 260ms/step - loss: 8.2056e-05 - val_loss: 3.4781e-04\n",
            "Epoch 95/100\n",
            "23/23 [==============================] - 7s 292ms/step - loss: 7.8567e-05 - val_loss: 3.3934e-04\n",
            "Epoch 96/100\n",
            "23/23 [==============================] - 10s 444ms/step - loss: 7.7699e-05 - val_loss: 3.2349e-04\n",
            "Epoch 97/100\n",
            "23/23 [==============================] - 7s 292ms/step - loss: 7.5254e-05 - val_loss: 5.6200e-04\n",
            "Epoch 98/100\n",
            "23/23 [==============================] - 7s 315ms/step - loss: 8.1527e-05 - val_loss: 3.2035e-04\n",
            "Epoch 99/100\n",
            "23/23 [==============================] - 8s 359ms/step - loss: 7.7830e-05 - val_loss: 3.1726e-04\n",
            "Epoch 100/100\n",
            "23/23 [==============================] - 5s 212ms/step - loss: 8.0821e-05 - val_loss: 3.2610e-04\n"
          ]
        },
        {
          "output_type": "execute_result",
          "data": {
            "text/plain": [
              "<keras.callbacks.History at 0x7f0269995950>"
            ]
          },
          "metadata": {},
          "execution_count": 18
        }
      ]
    },
    {
      "cell_type": "code",
      "source": [
        "import tensorflow as tf\n",
        "tf.__version__"
      ],
      "metadata": {
        "id": "wKuiMxI1hf3i",
        "outputId": "0ec5e4f4-6737-4c76-86b1-1f6d97118be5",
        "colab": {
          "base_uri": "https://localhost:8080/",
          "height": 35
        }
      },
      "execution_count": 20,
      "outputs": [
        {
          "output_type": "execute_result",
          "data": {
            "text/plain": [
              "'2.9.2'"
            ],
            "application/vnd.google.colaboratory.intrinsic+json": {
              "type": "string"
            }
          },
          "metadata": {},
          "execution_count": 20
        }
      ]
    },
    {
      "cell_type": "code",
      "source": [
        "train_predict = model.predict(X_train)\n",
        "test_predict = model.predict(X_test)"
      ],
      "metadata": {
        "id": "RnqMWHmiiSly",
        "outputId": "e7b04576-810e-4123-9cef-e365fa437b1c",
        "colab": {
          "base_uri": "https://localhost:8080/"
        }
      },
      "execution_count": 21,
      "outputs": [
        {
          "output_type": "stream",
          "name": "stdout",
          "text": [
            "46/46 [==============================] - 3s 37ms/step\n",
            "23/23 [==============================] - 1s 38ms/step\n"
          ]
        }
      ]
    },
    {
      "cell_type": "code",
      "source": [
        "train_predict = scaler.inverse_transform(train_predict)\n",
        "test_predict = scaler.inverse_transform(test_predict)"
      ],
      "metadata": {
        "id": "YtY7LqJXihmr"
      },
      "execution_count": 22,
      "outputs": []
    },
    {
      "cell_type": "code",
      "source": [
        "import math\n",
        "from sklearn.metrics import mean_squared_error"
      ],
      "metadata": {
        "id": "mAhW6P9niwRT"
      },
      "execution_count": 23,
      "outputs": []
    },
    {
      "cell_type": "code",
      "source": [
        "math.sqrt(mean_squared_error(y_train, train_predict))\n",
        "math.sqrt(mean_squared_error(y_test, test_predict))"
      ],
      "metadata": {
        "id": "3yGK_7iwi-BB",
        "outputId": "8c5a04ba-a1a1-431c-f2fd-d16c82b7485b",
        "colab": {
          "base_uri": "https://localhost:8080/"
        }
      },
      "execution_count": 24,
      "outputs": [
        {
          "output_type": "execute_result",
          "data": {
            "text/plain": [
              "663.4609806097176"
            ]
          },
          "metadata": {},
          "execution_count": 24
        }
      ]
    },
    {
      "cell_type": "markdown",
      "source": [
        "# Plotting the results"
      ],
      "metadata": {
        "id": "3mMY2IwgjQ04"
      }
    },
    {
      "cell_type": "code",
      "source": [
        "look_back = 100\n",
        "trainPredictPlot = np.empty_like(df1)\n",
        "trainPredictPlot[:, :] = np.nan\n",
        "trainPredictPlot[look_back:len(train_predict)+look_back, :] = train_predict\n",
        "\n",
        "testPredictPlot = np.empty_like(df1)\n",
        "testPredictPlot[:, :] = np.nan\n",
        "testPredictPlot[len(train_predict)+(look_back*2)+1:len(df1)-1, :] = test_predict\n",
        "\n",
        "plt.plot(scaler.inverse_transform(df1))\n",
        "plt.plot(trainPredictPlot)\n",
        "plt.plot(testPredictPlot)\n",
        "plt.show()"
      ],
      "metadata": {
        "id": "e1xXoRkcjKYb",
        "outputId": "16f87d43-3197-46f6-dbaa-73f8f730175d",
        "colab": {
          "base_uri": "https://localhost:8080/",
          "height": 265
        }
      },
      "execution_count": 25,
      "outputs": [
        {
          "output_type": "display_data",
          "data": {
            "text/plain": [
              "<Figure size 432x288 with 1 Axes>"
            ],
            "image/png": "[encoded data removed]"
          },
          "metadata": {
            "needs_background": "light"
          }
        }
      ]
    },
    {
      "cell_type": "code",
      "source": [
        "x_input = test_data[-100:].reshape(1,-1)\n",
        "x_input.shape"
      ],
      "metadata": {
        "id": "aMb0GttUlFKS",
        "outputId": "5c42bac1-6291-4d0d-c78e-022679eb4290",
        "colab": {
          "base_uri": "https://localhost:8080/"
        }
      },
      "execution_count": 26,
      "outputs": [
        {
          "output_type": "execute_result",
          "data": {
            "text/plain": [
              "(1, 100)"
            ]
          },
          "metadata": {},
          "execution_count": 26
        }
      ]
    },
    {
      "cell_type": "code",
      "source": [
        "temp_input = list(x_input)\n",
        "temp_input = temp_input[0].tolist()"
      ],
      "metadata": {
        "id": "o23nAUzGlN_z"
      },
      "execution_count": 27,
      "outputs": []
    },
    {
      "cell_type": "code",
      "source": [
        "# Next 10 days prediction\n",
        "\n",
        "lst_output = []\n",
        "n_steps = 100\n",
        "i=0\n",
        "while(i<30):\n",
        "  if(len(temp_input)>100):\n",
        "    x_input = np.array(temp_input[1:])\n",
        "    print(\"{} day input {}\".format(i,x_input))\n",
        "    x_input = x_input.reshape(1,-1)\n",
        "    x_input = x_input.reshape((1, n_steps, 1))\n",
        "\n",
        "    y_hat = model.predict(x_input, verbose=0)\n",
        "    print(\"{} day output {}\".format(i, y_hat))\n",
        "    temp_input.extend(y_hat[0].tolist())\n",
        "    temp_input = temp_input[1:]\n",
        "    lst_output.extend(y_hat.tolist())\n",
        "    i = i+1\n",
        "  else:\n",
        "    x_input = x_input.reshape((1, n_steps, 1))\n",
        "    y_hat = model.predict(x_input, verbose=0)\n",
        "    print(y_hat[0])\n",
        "    temp_input.extend(y_hat[0].tolist())\n",
        "    print(len(temp_input))\n",
        "    lst_output.extend(y_hat.tolist())\n",
        "    i = i+1\n",
        "\n",
        "print( lst_output )"
      ],
      "metadata": {
        "id": "fPisW-T2loKT",
        "outputId": "f44bdd59-d14f-4cc3-971c-21e98ceae48e",
        "colab": {
          "base_uri": "https://localhost:8080/"
        }
      },
      "execution_count": 28,
      "outputs": [
        {
          "output_type": "stream",
          "name": "stdout",
          "text": [
            "[0.38319322]\n",
            "101\n",
            "1 day input [0.46537047 0.44984897 0.44984897 0.44122591 0.41966827 0.40587138\n",
            " 0.40414676 0.43165432 0.42397979 0.41794365 0.42311749 0.41363213\n",
            " 0.41268359 0.40673368 0.40914814 0.3946614  0.37741529 0.39552371\n",
            " 0.3800022  0.37051684 0.37905367 0.40414676 0.41535674 0.43863899\n",
            " 0.45631626 0.46450816 0.45933433 0.45847202 0.46709508 0.46192125\n",
            " 0.47313122 0.46278355 0.44984897 0.42397979 0.43165432 0.44467513\n",
            " 0.43613831 0.43605207 0.43165432 0.44639974 0.45493657 0.44898666\n",
            " 0.43691438 0.43346516 0.45243588 0.46192125 0.44829682 0.46959577\n",
            " 0.48002967 0.47916736 0.52314495 0.5153842  0.50589884 0.50167354\n",
            " 0.48692811 0.49296425 0.49641347 0.47744275 0.46192125 0.45847202\n",
            " 0.45674741 0.44553744 0.4705443  0.44726205 0.44821058 0.46019663\n",
            " 0.45847202 0.45088373 0.45243588 0.44984897 0.44381283 0.43777669\n",
            " 0.42053057 0.42397979 0.42811886 0.41966827 0.42053057 0.42656671\n",
            " 0.42734279 0.42397979 0.41966827 0.41363213 0.42053057 0.41527051\n",
            " 0.4135459  0.41708135 0.42811886 0.41794365 0.41276982 0.40673368\n",
            " 0.37946757 0.38440427 0.37749289 0.36811316 0.36860683 0.37354353\n",
            " 0.37946757 0.38223213 0.37650555 0.38319322]\n",
            "1 day output [[0.3839905]]\n",
            "2 day input [0.44984897 0.44984897 0.44122591 0.41966827 0.40587138 0.40414676\n",
            " 0.43165432 0.42397979 0.41794365 0.42311749 0.41363213 0.41268359\n",
            " 0.40673368 0.40914814 0.3946614  0.37741529 0.39552371 0.3800022\n",
            " 0.37051684 0.37905367 0.40414676 0.41535674 0.43863899 0.45631626\n",
            " 0.46450816 0.45933433 0.45847202 0.46709508 0.46192125 0.47313122\n",
            " 0.46278355 0.44984897 0.42397979 0.43165432 0.44467513 0.43613831\n",
            " 0.43605207 0.43165432 0.44639974 0.45493657 0.44898666 0.43691438\n",
            " 0.43346516 0.45243588 0.46192125 0.44829682 0.46959577 0.48002967\n",
            " 0.47916736 0.52314495 0.5153842  0.50589884 0.50167354 0.48692811\n",
            " 0.49296425 0.49641347 0.47744275 0.46192125 0.45847202 0.45674741\n",
            " 0.44553744 0.4705443  0.44726205 0.44821058 0.46019663 0.45847202\n",
            " 0.45088373 0.45243588 0.44984897 0.44381283 0.43777669 0.42053057\n",
            " 0.42397979 0.42811886 0.41966827 0.42053057 0.42656671 0.42734279\n",
            " 0.42397979 0.41966827 0.41363213 0.42053057 0.41527051 0.4135459\n",
            " 0.41708135 0.42811886 0.41794365 0.41276982 0.40673368 0.37946757\n",
            " 0.38440427 0.37749289 0.36811316 0.36860683 0.37354353 0.37946757\n",
            " 0.38223213 0.37650555 0.38319322 0.3839905 ]\n",
            "2 day output [[0.385106]]\n",
            "3 day input [0.44984897 0.44122591 0.41966827 0.40587138 0.40414676 0.43165432\n",
            " 0.42397979 0.41794365 0.42311749 0.41363213 0.41268359 0.40673368\n",
            " 0.40914814 0.3946614  0.37741529 0.39552371 0.3800022  0.37051684\n",
            " 0.37905367 0.40414676 0.41535674 0.43863899 0.45631626 0.46450816\n",
            " 0.45933433 0.45847202 0.46709508 0.46192125 0.47313122 0.46278355\n",
            " 0.44984897 0.42397979 0.43165432 0.44467513 0.43613831 0.43605207\n",
            " 0.43165432 0.44639974 0.45493657 0.44898666 0.43691438 0.43346516\n",
            " 0.45243588 0.46192125 0.44829682 0.46959577 0.48002967 0.47916736\n",
            " 0.52314495 0.5153842  0.50589884 0.50167354 0.48692811 0.49296425\n",
            " 0.49641347 0.47744275 0.46192125 0.45847202 0.45674741 0.44553744\n",
            " 0.4705443  0.44726205 0.44821058 0.46019663 0.45847202 0.45088373\n",
            " 0.45243588 0.44984897 0.44381283 0.43777669 0.42053057 0.42397979\n",
            " 0.42811886 0.41966827 0.42053057 0.42656671 0.42734279 0.42397979\n",
            " 0.41966827 0.41363213 0.42053057 0.41527051 0.4135459  0.41708135\n",
            " 0.42811886 0.41794365 0.41276982 0.40673368 0.37946757 0.38440427\n",
            " 0.37749289 0.36811316 0.36860683 0.37354353 0.37946757 0.38223213\n",
            " 0.37650555 0.38319322 0.3839905  0.385106  ]\n",
            "3 day output [[0.38622844]]\n",
            "4 day input [0.44122591 0.41966827 0.40587138 0.40414676 0.43165432 0.42397979\n",
            " 0.41794365 0.42311749 0.41363213 0.41268359 0.40673368 0.40914814\n",
            " 0.3946614  0.37741529 0.39552371 0.3800022  0.37051684 0.37905367\n",
            " 0.40414676 0.41535674 0.43863899 0.45631626 0.46450816 0.45933433\n",
            " 0.45847202 0.46709508 0.46192125 0.47313122 0.46278355 0.44984897\n",
            " 0.42397979 0.43165432 0.44467513 0.43613831 0.43605207 0.43165432\n",
            " 0.44639974 0.45493657 0.44898666 0.43691438 0.43346516 0.45243588\n",
            " 0.46192125 0.44829682 0.46959577 0.48002967 0.47916736 0.52314495\n",
            " 0.5153842  0.50589884 0.50167354 0.48692811 0.49296425 0.49641347\n",
            " 0.47744275 0.46192125 0.45847202 0.45674741 0.44553744 0.4705443\n",
            " 0.44726205 0.44821058 0.46019663 0.45847202 0.45088373 0.45243588\n",
            " 0.44984897 0.44381283 0.43777669 0.42053057 0.42397979 0.42811886\n",
            " 0.41966827 0.42053057 0.42656671 0.42734279 0.42397979 0.41966827\n",
            " 0.41363213 0.42053057 0.41527051 0.4135459  0.41708135 0.42811886\n",
            " 0.41794365 0.41276982 0.40673368 0.37946757 0.38440427 0.37749289\n",
            " 0.36811316 0.36860683 0.37354353 0.37946757 0.38223213 0.37650555\n",
            " 0.38319322 0.3839905  0.385106   0.38622844]\n",
            "4 day output [[0.38736498]]\n",
            "5 day input [0.41966827 0.40587138 0.40414676 0.43165432 0.42397979 0.41794365\n",
            " 0.42311749 0.41363213 0.41268359 0.40673368 0.40914814 0.3946614\n",
            " 0.37741529 0.39552371 0.3800022  0.37051684 0.37905367 0.40414676\n",
            " 0.41535674 0.43863899 0.45631626 0.46450816 0.45933433 0.45847202\n",
            " 0.46709508 0.46192125 0.47313122 0.46278355 0.44984897 0.42397979\n",
            " 0.43165432 0.44467513 0.43613831 0.43605207 0.43165432 0.44639974\n",
            " 0.45493657 0.44898666 0.43691438 0.43346516 0.45243588 0.46192125\n",
            " 0.44829682 0.46959577 0.48002967 0.47916736 0.52314495 0.5153842\n",
            " 0.50589884 0.50167354 0.48692811 0.49296425 0.49641347 0.47744275\n",
            " 0.46192125 0.45847202 0.45674741 0.44553744 0.4705443  0.44726205\n",
            " 0.44821058 0.46019663 0.45847202 0.45088373 0.45243588 0.44984897\n",
            " 0.44381283 0.43777669 0.42053057 0.42397979 0.42811886 0.41966827\n",
            " 0.42053057 0.42656671 0.42734279 0.42397979 0.41966827 0.41363213\n",
            " 0.42053057 0.41527051 0.4135459  0.41708135 0.42811886 0.41794365\n",
            " 0.41276982 0.40673368 0.37946757 0.38440427 0.37749289 0.36811316\n",
            " 0.36860683 0.37354353 0.37946757 0.38223213 0.37650555 0.38319322\n",
            " 0.3839905  0.385106   0.38622844 0.38736498]\n",
            "5 day output [[0.38860926]]\n",
            "6 day input [0.40587138 0.40414676 0.43165432 0.42397979 0.41794365 0.42311749\n",
            " 0.41363213 0.41268359 0.40673368 0.40914814 0.3946614  0.37741529\n",
            " 0.39552371 0.3800022  0.37051684 0.37905367 0.40414676 0.41535674\n",
            " 0.43863899 0.45631626 0.46450816 0.45933433 0.45847202 0.46709508\n",
            " 0.46192125 0.47313122 0.46278355 0.44984897 0.42397979 0.43165432\n",
            " 0.44467513 0.43613831 0.43605207 0.43165432 0.44639974 0.45493657\n",
            " 0.44898666 0.43691438 0.43346516 0.45243588 0.46192125 0.44829682\n",
            " 0.46959577 0.48002967 0.47916736 0.52314495 0.5153842  0.50589884\n",
            " 0.50167354 0.48692811 0.49296425 0.49641347 0.47744275 0.46192125\n",
            " 0.45847202 0.45674741 0.44553744 0.4705443  0.44726205 0.44821058\n",
            " 0.46019663 0.45847202 0.45088373 0.45243588 0.44984897 0.44381283\n",
            " 0.43777669 0.42053057 0.42397979 0.42811886 0.41966827 0.42053057\n",
            " 0.42656671 0.42734279 0.42397979 0.41966827 0.41363213 0.42053057\n",
            " 0.41527051 0.4135459  0.41708135 0.42811886 0.41794365 0.41276982\n",
            " 0.40673368 0.37946757 0.38440427 0.37749289 0.36811316 0.36860683\n",
            " 0.37354353 0.37946757 0.38223213 0.37650555 0.38319322 0.3839905\n",
            " 0.385106   0.38622844 0.38736498 0.38860926]\n",
            "6 day output [[0.39004084]]\n",
            "7 day input [0.40414676 0.43165432 0.42397979 0.41794365 0.42311749 0.41363213\n",
            " 0.41268359 0.40673368 0.40914814 0.3946614  0.37741529 0.39552371\n",
            " 0.3800022  0.37051684 0.37905367 0.40414676 0.41535674 0.43863899\n",
            " 0.45631626 0.46450816 0.45933433 0.45847202 0.46709508 0.46192125\n",
            " 0.47313122 0.46278355 0.44984897 0.42397979 0.43165432 0.44467513\n",
            " 0.43613831 0.43605207 0.43165432 0.44639974 0.45493657 0.44898666\n",
            " 0.43691438 0.43346516 0.45243588 0.46192125 0.44829682 0.46959577\n",
            " 0.48002967 0.47916736 0.52314495 0.5153842  0.50589884 0.50167354\n",
            " 0.48692811 0.49296425 0.49641347 0.47744275 0.46192125 0.45847202\n",
            " 0.45674741 0.44553744 0.4705443  0.44726205 0.44821058 0.46019663\n",
            " 0.45847202 0.45088373 0.45243588 0.44984897 0.44381283 0.43777669\n",
            " 0.42053057 0.42397979 0.42811886 0.41966827 0.42053057 0.42656671\n",
            " 0.42734279 0.42397979 0.41966827 0.41363213 0.42053057 0.41527051\n",
            " 0.4135459  0.41708135 0.42811886 0.41794365 0.41276982 0.40673368\n",
            " 0.37946757 0.38440427 0.37749289 0.36811316 0.36860683 0.37354353\n",
            " 0.37946757 0.38223213 0.37650555 0.38319322 0.3839905  0.385106\n",
            " 0.38622844 0.38736498 0.38860926 0.39004084]\n",
            "7 day output [[0.39170223]]\n",
            "8 day input [0.43165432 0.42397979 0.41794365 0.42311749 0.41363213 0.41268359\n",
            " 0.40673368 0.40914814 0.3946614  0.37741529 0.39552371 0.3800022\n",
            " 0.37051684 0.37905367 0.40414676 0.41535674 0.43863899 0.45631626\n",
            " 0.46450816 0.45933433 0.45847202 0.46709508 0.46192125 0.47313122\n",
            " 0.46278355 0.44984897 0.42397979 0.43165432 0.44467513 0.43613831\n",
            " 0.43605207 0.43165432 0.44639974 0.45493657 0.44898666 0.43691438\n",
            " 0.43346516 0.45243588 0.46192125 0.44829682 0.46959577 0.48002967\n",
            " 0.47916736 0.52314495 0.5153842  0.50589884 0.50167354 0.48692811\n",
            " 0.49296425 0.49641347 0.47744275 0.46192125 0.45847202 0.45674741\n",
            " 0.44553744 0.4705443  0.44726205 0.44821058 0.46019663 0.45847202\n",
            " 0.45088373 0.45243588 0.44984897 0.44381283 0.43777669 0.42053057\n",
            " 0.42397979 0.42811886 0.41966827 0.42053057 0.42656671 0.42734279\n",
            " 0.42397979 0.41966827 0.41363213 0.42053057 0.41527051 0.4135459\n",
            " 0.41708135 0.42811886 0.41794365 0.41276982 0.40673368 0.37946757\n",
            " 0.38440427 0.37749289 0.36811316 0.36860683 0.37354353 0.37946757\n",
            " 0.38223213 0.37650555 0.38319322 0.3839905  0.385106   0.38622844\n",
            " 0.38736498 0.38860926 0.39004084 0.39170223]\n",
            "8 day output [[0.39359948]]\n",
            "9 day input [0.42397979 0.41794365 0.42311749 0.41363213 0.41268359 0.40673368\n",
            " 0.40914814 0.3946614  0.37741529 0.39552371 0.3800022  0.37051684\n",
            " 0.37905367 0.40414676 0.41535674 0.43863899 0.45631626 0.46450816\n",
            " 0.45933433 0.45847202 0.46709508 0.46192125 0.47313122 0.46278355\n",
            " 0.44984897 0.42397979 0.43165432 0.44467513 0.43613831 0.43605207\n",
            " 0.43165432 0.44639974 0.45493657 0.44898666 0.43691438 0.43346516\n",
            " 0.45243588 0.46192125 0.44829682 0.46959577 0.48002967 0.47916736\n",
            " 0.52314495 0.5153842  0.50589884 0.50167354 0.48692811 0.49296425\n",
            " 0.49641347 0.47744275 0.46192125 0.45847202 0.45674741 0.44553744\n",
            " 0.4705443  0.44726205 0.44821058 0.46019663 0.45847202 0.45088373\n",
            " 0.45243588 0.44984897 0.44381283 0.43777669 0.42053057 0.42397979\n",
            " 0.42811886 0.41966827 0.42053057 0.42656671 0.42734279 0.42397979\n",
            " 0.41966827 0.41363213 0.42053057 0.41527051 0.4135459  0.41708135\n",
            " 0.42811886 0.41794365 0.41276982 0.40673368 0.37946757 0.38440427\n",
            " 0.37749289 0.36811316 0.36860683 0.37354353 0.37946757 0.38223213\n",
            " 0.37650555 0.38319322 0.3839905  0.385106   0.38622844 0.38736498\n",
            " 0.38860926 0.39004084 0.39170223 0.39359948]\n",
            "9 day output [[0.39570993]]\n",
            "10 day input [0.41794365 0.42311749 0.41363213 0.41268359 0.40673368 0.40914814\n",
            " 0.3946614  0.37741529 0.39552371 0.3800022  0.37051684 0.37905367\n",
            " 0.40414676 0.41535674 0.43863899 0.45631626 0.46450816 0.45933433\n",
            " 0.45847202 0.46709508 0.46192125 0.47313122 0.46278355 0.44984897\n",
            " 0.42397979 0.43165432 0.44467513 0.43613831 0.43605207 0.43165432\n",
            " 0.44639974 0.45493657 0.44898666 0.43691438 0.43346516 0.45243588\n",
            " 0.46192125 0.44829682 0.46959577 0.48002967 0.47916736 0.52314495\n",
            " 0.5153842  0.50589884 0.50167354 0.48692811 0.49296425 0.49641347\n",
            " 0.47744275 0.46192125 0.45847202 0.45674741 0.44553744 0.4705443\n",
            " 0.44726205 0.44821058 0.46019663 0.45847202 0.45088373 0.45243588\n",
            " 0.44984897 0.44381283 0.43777669 0.42053057 0.42397979 0.42811886\n",
            " 0.41966827 0.42053057 0.42656671 0.42734279 0.42397979 0.41966827\n",
            " 0.41363213 0.42053057 0.41527051 0.4135459  0.41708135 0.42811886\n",
            " 0.41794365 0.41276982 0.40673368 0.37946757 0.38440427 0.37749289\n",
            " 0.36811316 0.36860683 0.37354353 0.37946757 0.38223213 0.37650555\n",
            " 0.38319322 0.3839905  0.385106   0.38622844 0.38736498 0.38860926\n",
            " 0.39004084 0.39170223 0.39359948 0.39570993]\n",
            "10 day output [[0.39799312]]\n",
            "11 day input [0.42311749 0.41363213 0.41268359 0.40673368 0.40914814 0.3946614\n",
            " 0.37741529 0.39552371 0.3800022  0.37051684 0.37905367 0.40414676\n",
            " 0.41535674 0.43863899 0.45631626 0.46450816 0.45933433 0.45847202\n",
            " 0.46709508 0.46192125 0.47313122 0.46278355 0.44984897 0.42397979\n",
            " 0.43165432 0.44467513 0.43613831 0.43605207 0.43165432 0.44639974\n",
            " 0.45493657 0.44898666 0.43691438 0.43346516 0.45243588 0.46192125\n",
            " 0.44829682 0.46959577 0.48002967 0.47916736 0.52314495 0.5153842\n",
            " 0.50589884 0.50167354 0.48692811 0.49296425 0.49641347 0.47744275\n",
            " 0.46192125 0.45847202 0.45674741 0.44553744 0.4705443  0.44726205\n",
            " 0.44821058 0.46019663 0.45847202 0.45088373 0.45243588 0.44984897\n",
            " 0.44381283 0.43777669 0.42053057 0.42397979 0.42811886 0.41966827\n",
            " 0.42053057 0.42656671 0.42734279 0.42397979 0.41966827 0.41363213\n",
            " 0.42053057 0.41527051 0.4135459  0.41708135 0.42811886 0.41794365\n",
            " 0.41276982 0.40673368 0.37946757 0.38440427 0.37749289 0.36811316\n",
            " 0.36860683 0.37354353 0.37946757 0.38223213 0.37650555 0.38319322\n",
            " 0.3839905  0.385106   0.38622844 0.38736498 0.38860926 0.39004084\n",
            " 0.39170223 0.39359948 0.39570993 0.39799312]\n",
            "11 day output [[0.40040013]]\n",
            "12 day input [0.41363213 0.41268359 0.40673368 0.40914814 0.3946614  0.37741529\n",
            " 0.39552371 0.3800022  0.37051684 0.37905367 0.40414676 0.41535674\n",
            " 0.43863899 0.45631626 0.46450816 0.45933433 0.45847202 0.46709508\n",
            " 0.46192125 0.47313122 0.46278355 0.44984897 0.42397979 0.43165432\n",
            " 0.44467513 0.43613831 0.43605207 0.43165432 0.44639974 0.45493657\n",
            " 0.44898666 0.43691438 0.43346516 0.45243588 0.46192125 0.44829682\n",
            " 0.46959577 0.48002967 0.47916736 0.52314495 0.5153842  0.50589884\n",
            " 0.50167354 0.48692811 0.49296425 0.49641347 0.47744275 0.46192125\n",
            " 0.45847202 0.45674741 0.44553744 0.4705443  0.44726205 0.44821058\n",
            " 0.46019663 0.45847202 0.45088373 0.45243588 0.44984897 0.44381283\n",
            " 0.43777669 0.42053057 0.42397979 0.42811886 0.41966827 0.42053057\n",
            " 0.42656671 0.42734279 0.42397979 0.41966827 0.41363213 0.42053057\n",
            " 0.41527051 0.4135459  0.41708135 0.42811886 0.41794365 0.41276982\n",
            " 0.40673368 0.37946757 0.38440427 0.37749289 0.36811316 0.36860683\n",
            " 0.37354353 0.37946757 0.38223213 0.37650555 0.38319322 0.3839905\n",
            " 0.385106   0.38622844 0.38736498 0.38860926 0.39004084 0.39170223\n",
            " 0.39359948 0.39570993 0.39799312 0.40040013]\n",
            "12 day output [[0.40288216]]\n",
            "13 day input [0.41268359 0.40673368 0.40914814 0.3946614  0.37741529 0.39552371\n",
            " 0.3800022  0.37051684 0.37905367 0.40414676 0.41535674 0.43863899\n",
            " 0.45631626 0.46450816 0.45933433 0.45847202 0.46709508 0.46192125\n",
            " 0.47313122 0.46278355 0.44984897 0.42397979 0.43165432 0.44467513\n",
            " 0.43613831 0.43605207 0.43165432 0.44639974 0.45493657 0.44898666\n",
            " 0.43691438 0.43346516 0.45243588 0.46192125 0.44829682 0.46959577\n",
            " 0.48002967 0.47916736 0.52314495 0.5153842  0.50589884 0.50167354\n",
            " 0.48692811 0.49296425 0.49641347 0.47744275 0.46192125 0.45847202\n",
            " 0.45674741 0.44553744 0.4705443  0.44726205 0.44821058 0.46019663\n",
            " 0.45847202 0.45088373 0.45243588 0.44984897 0.44381283 0.43777669\n",
            " 0.42053057 0.42397979 0.42811886 0.41966827 0.42053057 0.42656671\n",
            " 0.42734279 0.42397979 0.41966827 0.41363213 0.42053057 0.41527051\n",
            " 0.4135459  0.41708135 0.42811886 0.41794365 0.41276982 0.40673368\n",
            " 0.37946757 0.38440427 0.37749289 0.36811316 0.36860683 0.37354353\n",
            " 0.37946757 0.38223213 0.37650555 0.38319322 0.3839905  0.385106\n",
            " 0.38622844 0.38736498 0.38860926 0.39004084 0.39170223 0.39359948\n",
            " 0.39570993 0.39799312 0.40040013 0.40288216]\n",
            "13 day output [[0.4053975]]\n",
            "14 day input [0.40673368 0.40914814 0.3946614  0.37741529 0.39552371 0.3800022\n",
            " 0.37051684 0.37905367 0.40414676 0.41535674 0.43863899 0.45631626\n",
            " 0.46450816 0.45933433 0.45847202 0.46709508 0.46192125 0.47313122\n",
            " 0.46278355 0.44984897 0.42397979 0.43165432 0.44467513 0.43613831\n",
            " 0.43605207 0.43165432 0.44639974 0.45493657 0.44898666 0.43691438\n",
            " 0.43346516 0.45243588 0.46192125 0.44829682 0.46959577 0.48002967\n",
            " 0.47916736 0.52314495 0.5153842  0.50589884 0.50167354 0.48692811\n",
            " 0.49296425 0.49641347 0.47744275 0.46192125 0.45847202 0.45674741\n",
            " 0.44553744 0.4705443  0.44726205 0.44821058 0.46019663 0.45847202\n",
            " 0.45088373 0.45243588 0.44984897 0.44381283 0.43777669 0.42053057\n",
            " 0.42397979 0.42811886 0.41966827 0.42053057 0.42656671 0.42734279\n",
            " 0.42397979 0.41966827 0.41363213 0.42053057 0.41527051 0.4135459\n",
            " 0.41708135 0.42811886 0.41794365 0.41276982 0.40673368 0.37946757\n",
            " 0.38440427 0.37749289 0.36811316 0.36860683 0.37354353 0.37946757\n",
            " 0.38223213 0.37650555 0.38319322 0.3839905  0.385106   0.38622844\n",
            " 0.38736498 0.38860926 0.39004084 0.39170223 0.39359948 0.39570993\n",
            " 0.39799312 0.40040013 0.40288216 0.4053975 ]\n",
            "14 day output [[0.40791413]]\n",
            "15 day input [0.40914814 0.3946614  0.37741529 0.39552371 0.3800022  0.37051684\n",
            " 0.37905367 0.40414676 0.41535674 0.43863899 0.45631626 0.46450816\n",
            " 0.45933433 0.45847202 0.46709508 0.46192125 0.47313122 0.46278355\n",
            " 0.44984897 0.42397979 0.43165432 0.44467513 0.43613831 0.43605207\n",
            " 0.43165432 0.44639974 0.45493657 0.44898666 0.43691438 0.43346516\n",
            " 0.45243588 0.46192125 0.44829682 0.46959577 0.48002967 0.47916736\n",
            " 0.52314495 0.5153842  0.50589884 0.50167354 0.48692811 0.49296425\n",
            " 0.49641347 0.47744275 0.46192125 0.45847202 0.45674741 0.44553744\n",
            " 0.4705443  0.44726205 0.44821058 0.46019663 0.45847202 0.45088373\n",
            " 0.45243588 0.44984897 0.44381283 0.43777669 0.42053057 0.42397979\n",
            " 0.42811886 0.41966827 0.42053057 0.42656671 0.42734279 0.42397979\n",
            " 0.41966827 0.41363213 0.42053057 0.41527051 0.4135459  0.41708135\n",
            " 0.42811886 0.41794365 0.41276982 0.40673368 0.37946757 0.38440427\n",
            " 0.37749289 0.36811316 0.36860683 0.37354353 0.37946757 0.38223213\n",
            " 0.37650555 0.38319322 0.3839905  0.385106   0.38622844 0.38736498\n",
            " 0.38860926 0.39004084 0.39170223 0.39359948 0.39570993 0.39799312\n",
            " 0.40040013 0.40288216 0.4053975  0.40791413]\n",
            "15 day output [[0.41041133]]\n",
            "16 day input [0.3946614  0.37741529 0.39552371 0.3800022  0.37051684 0.37905367\n",
            " 0.40414676 0.41535674 0.43863899 0.45631626 0.46450816 0.45933433\n",
            " 0.45847202 0.46709508 0.46192125 0.47313122 0.46278355 0.44984897\n",
            " 0.42397979 0.43165432 0.44467513 0.43613831 0.43605207 0.43165432\n",
            " 0.44639974 0.45493657 0.44898666 0.43691438 0.43346516 0.45243588\n",
            " 0.46192125 0.44829682 0.46959577 0.48002967 0.47916736 0.52314495\n",
            " 0.5153842  0.50589884 0.50167354 0.48692811 0.49296425 0.49641347\n",
            " 0.47744275 0.46192125 0.45847202 0.45674741 0.44553744 0.4705443\n",
            " 0.44726205 0.44821058 0.46019663 0.45847202 0.45088373 0.45243588\n",
            " 0.44984897 0.44381283 0.43777669 0.42053057 0.42397979 0.42811886\n",
            " 0.41966827 0.42053057 0.42656671 0.42734279 0.42397979 0.41966827\n",
            " 0.41363213 0.42053057 0.41527051 0.4135459  0.41708135 0.42811886\n",
            " 0.41794365 0.41276982 0.40673368 0.37946757 0.38440427 0.37749289\n",
            " 0.36811316 0.36860683 0.37354353 0.37946757 0.38223213 0.37650555\n",
            " 0.38319322 0.3839905  0.385106   0.38622844 0.38736498 0.38860926\n",
            " 0.39004084 0.39170223 0.39359948 0.39570993 0.39799312 0.40040013\n",
            " 0.40288216 0.4053975  0.40791413 0.41041133]\n",
            "16 day output [[0.41287857]]\n",
            "17 day input [0.37741529 0.39552371 0.3800022  0.37051684 0.37905367 0.40414676\n",
            " 0.41535674 0.43863899 0.45631626 0.46450816 0.45933433 0.45847202\n",
            " 0.46709508 0.46192125 0.47313122 0.46278355 0.44984897 0.42397979\n",
            " 0.43165432 0.44467513 0.43613831 0.43605207 0.43165432 0.44639974\n",
            " 0.45493657 0.44898666 0.43691438 0.43346516 0.45243588 0.46192125\n",
            " 0.44829682 0.46959577 0.48002967 0.47916736 0.52314495 0.5153842\n",
            " 0.50589884 0.50167354 0.48692811 0.49296425 0.49641347 0.47744275\n",
            " 0.46192125 0.45847202 0.45674741 0.44553744 0.4705443  0.44726205\n",
            " 0.44821058 0.46019663 0.45847202 0.45088373 0.45243588 0.44984897\n",
            " 0.44381283 0.43777669 0.42053057 0.42397979 0.42811886 0.41966827\n",
            " 0.42053057 0.42656671 0.42734279 0.42397979 0.41966827 0.41363213\n",
            " 0.42053057 0.41527051 0.4135459  0.41708135 0.42811886 0.41794365\n",
            " 0.41276982 0.40673368 0.37946757 0.38440427 0.37749289 0.36811316\n",
            " 0.36860683 0.37354353 0.37946757 0.38223213 0.37650555 0.38319322\n",
            " 0.3839905  0.385106   0.38622844 0.38736498 0.38860926 0.39004084\n",
            " 0.39170223 0.39359948 0.39570993 0.39799312 0.40040013 0.40288216\n",
            " 0.4053975  0.40791413 0.41041133 0.41287857]\n",
            "17 day output [[0.41531327]]\n",
            "18 day input [0.39552371 0.3800022  0.37051684 0.37905367 0.40414676 0.41535674\n",
            " 0.43863899 0.45631626 0.46450816 0.45933433 0.45847202 0.46709508\n",
            " 0.46192125 0.47313122 0.46278355 0.44984897 0.42397979 0.43165432\n",
            " 0.44467513 0.43613831 0.43605207 0.43165432 0.44639974 0.45493657\n",
            " 0.44898666 0.43691438 0.43346516 0.45243588 0.46192125 0.44829682\n",
            " 0.46959577 0.48002967 0.47916736 0.52314495 0.5153842  0.50589884\n",
            " 0.50167354 0.48692811 0.49296425 0.49641347 0.47744275 0.46192125\n",
            " 0.45847202 0.45674741 0.44553744 0.4705443  0.44726205 0.44821058\n",
            " 0.46019663 0.45847202 0.45088373 0.45243588 0.44984897 0.44381283\n",
            " 0.43777669 0.42053057 0.42397979 0.42811886 0.41966827 0.42053057\n",
            " 0.42656671 0.42734279 0.42397979 0.41966827 0.41363213 0.42053057\n",
            " 0.41527051 0.4135459  0.41708135 0.42811886 0.41794365 0.41276982\n",
            " 0.40673368 0.37946757 0.38440427 0.37749289 0.36811316 0.36860683\n",
            " 0.37354353 0.37946757 0.38223213 0.37650555 0.38319322 0.3839905\n",
            " 0.385106   0.38622844 0.38736498 0.38860926 0.39004084 0.39170223\n",
            " 0.39359948 0.39570993 0.39799312 0.40040013 0.40288216 0.4053975\n",
            " 0.40791413 0.41041133 0.41287857 0.41531327]\n",
            "18 day output [[0.41771847]]\n",
            "19 day input [0.3800022  0.37051684 0.37905367 0.40414676 0.41535674 0.43863899\n",
            " 0.45631626 0.46450816 0.45933433 0.45847202 0.46709508 0.46192125\n",
            " 0.47313122 0.46278355 0.44984897 0.42397979 0.43165432 0.44467513\n",
            " 0.43613831 0.43605207 0.43165432 0.44639974 0.45493657 0.44898666\n",
            " 0.43691438 0.43346516 0.45243588 0.46192125 0.44829682 0.46959577\n",
            " 0.48002967 0.47916736 0.52314495 0.5153842  0.50589884 0.50167354\n",
            " 0.48692811 0.49296425 0.49641347 0.47744275 0.46192125 0.45847202\n",
            " 0.45674741 0.44553744 0.4705443  0.44726205 0.44821058 0.46019663\n",
            " 0.45847202 0.45088373 0.45243588 0.44984897 0.44381283 0.43777669\n",
            " 0.42053057 0.42397979 0.42811886 0.41966827 0.42053057 0.42656671\n",
            " 0.42734279 0.42397979 0.41966827 0.41363213 0.42053057 0.41527051\n",
            " 0.4135459  0.41708135 0.42811886 0.41794365 0.41276982 0.40673368\n",
            " 0.37946757 0.38440427 0.37749289 0.36811316 0.36860683 0.37354353\n",
            " 0.37946757 0.38223213 0.37650555 0.38319322 0.3839905  0.385106\n",
            " 0.38622844 0.38736498 0.38860926 0.39004084 0.39170223 0.39359948\n",
            " 0.39570993 0.39799312 0.40040013 0.40288216 0.4053975  0.40791413\n",
            " 0.41041133 0.41287857 0.41531327 0.41771847]\n",
            "19 day output [[0.42009956]]\n",
            "20 day input [0.37051684 0.37905367 0.40414676 0.41535674 0.43863899 0.45631626\n",
            " 0.46450816 0.45933433 0.45847202 0.46709508 0.46192125 0.47313122\n",
            " 0.46278355 0.44984897 0.42397979 0.43165432 0.44467513 0.43613831\n",
            " 0.43605207 0.43165432 0.44639974 0.45493657 0.44898666 0.43691438\n",
            " 0.43346516 0.45243588 0.46192125 0.44829682 0.46959577 0.48002967\n",
            " 0.47916736 0.52314495 0.5153842  0.50589884 0.50167354 0.48692811\n",
            " 0.49296425 0.49641347 0.47744275 0.46192125 0.45847202 0.45674741\n",
            " 0.44553744 0.4705443  0.44726205 0.44821058 0.46019663 0.45847202\n",
            " 0.45088373 0.45243588 0.44984897 0.44381283 0.43777669 0.42053057\n",
            " 0.42397979 0.42811886 0.41966827 0.42053057 0.42656671 0.42734279\n",
            " 0.42397979 0.41966827 0.41363213 0.42053057 0.41527051 0.4135459\n",
            " 0.41708135 0.42811886 0.41794365 0.41276982 0.40673368 0.37946757\n",
            " 0.38440427 0.37749289 0.36811316 0.36860683 0.37354353 0.37946757\n",
            " 0.38223213 0.37650555 0.38319322 0.3839905  0.385106   0.38622844\n",
            " 0.38736498 0.38860926 0.39004084 0.39170223 0.39359948 0.39570993\n",
            " 0.39799312 0.40040013 0.40288216 0.4053975  0.40791413 0.41041133\n",
            " 0.41287857 0.41531327 0.41771847 0.42009956]\n",
            "20 day output [[0.4224629]]\n",
            "21 day input [0.37905367 0.40414676 0.41535674 0.43863899 0.45631626 0.46450816\n",
            " 0.45933433 0.45847202 0.46709508 0.46192125 0.47313122 0.46278355\n",
            " 0.44984897 0.42397979 0.43165432 0.44467513 0.43613831 0.43605207\n",
            " 0.43165432 0.44639974 0.45493657 0.44898666 0.43691438 0.43346516\n",
            " 0.45243588 0.46192125 0.44829682 0.46959577 0.48002967 0.47916736\n",
            " 0.52314495 0.5153842  0.50589884 0.50167354 0.48692811 0.49296425\n",
            " 0.49641347 0.47744275 0.46192125 0.45847202 0.45674741 0.44553744\n",
            " 0.4705443  0.44726205 0.44821058 0.46019663 0.45847202 0.45088373\n",
            " 0.45243588 0.44984897 0.44381283 0.43777669 0.42053057 0.42397979\n",
            " 0.42811886 0.41966827 0.42053057 0.42656671 0.42734279 0.42397979\n",
            " 0.41966827 0.41363213 0.42053057 0.41527051 0.4135459  0.41708135\n",
            " 0.42811886 0.41794365 0.41276982 0.40673368 0.37946757 0.38440427\n",
            " 0.37749289 0.36811316 0.36860683 0.37354353 0.37946757 0.38223213\n",
            " 0.37650555 0.38319322 0.3839905  0.385106   0.38622844 0.38736498\n",
            " 0.38860926 0.39004084 0.39170223 0.39359948 0.39570993 0.39799312\n",
            " 0.40040013 0.40288216 0.4053975  0.40791413 0.41041133 0.41287857\n",
            " 0.41531327 0.41771847 0.42009956 0.42246291]\n",
            "21 day output [[0.4248137]]\n",
            "22 day input [0.40414676 0.41535674 0.43863899 0.45631626 0.46450816 0.45933433\n",
            " 0.45847202 0.46709508 0.46192125 0.47313122 0.46278355 0.44984897\n",
            " 0.42397979 0.43165432 0.44467513 0.43613831 0.43605207 0.43165432\n",
            " 0.44639974 0.45493657 0.44898666 0.43691438 0.43346516 0.45243588\n",
            " 0.46192125 0.44829682 0.46959577 0.48002967 0.47916736 0.52314495\n",
            " 0.5153842  0.50589884 0.50167354 0.48692811 0.49296425 0.49641347\n",
            " 0.47744275 0.46192125 0.45847202 0.45674741 0.44553744 0.4705443\n",
            " 0.44726205 0.44821058 0.46019663 0.45847202 0.45088373 0.45243588\n",
            " 0.44984897 0.44381283 0.43777669 0.42053057 0.42397979 0.42811886\n",
            " 0.41966827 0.42053057 0.42656671 0.42734279 0.42397979 0.41966827\n",
            " 0.41363213 0.42053057 0.41527051 0.4135459  0.41708135 0.42811886\n",
            " 0.41794365 0.41276982 0.40673368 0.37946757 0.38440427 0.37749289\n",
            " 0.36811316 0.36860683 0.37354353 0.37946757 0.38223213 0.37650555\n",
            " 0.38319322 0.3839905  0.385106   0.38622844 0.38736498 0.38860926\n",
            " 0.39004084 0.39170223 0.39359948 0.39570993 0.39799312 0.40040013\n",
            " 0.40288216 0.4053975  0.40791413 0.41041133 0.41287857 0.41531327\n",
            " 0.41771847 0.42009956 0.42246291 0.42481369]\n",
            "22 day output [[0.4271549]]\n",
            "23 day input [0.41535674 0.43863899 0.45631626 0.46450816 0.45933433 0.45847202\n",
            " 0.46709508 0.46192125 0.47313122 0.46278355 0.44984897 0.42397979\n",
            " 0.43165432 0.44467513 0.43613831 0.43605207 0.43165432 0.44639974\n",
            " 0.45493657 0.44898666 0.43691438 0.43346516 0.45243588 0.46192125\n",
            " 0.44829682 0.46959577 0.48002967 0.47916736 0.52314495 0.5153842\n",
            " 0.50589884 0.50167354 0.48692811 0.49296425 0.49641347 0.47744275\n",
            " 0.46192125 0.45847202 0.45674741 0.44553744 0.4705443  0.44726205\n",
            " 0.44821058 0.46019663 0.45847202 0.45088373 0.45243588 0.44984897\n",
            " 0.44381283 0.43777669 0.42053057 0.42397979 0.42811886 0.41966827\n",
            " 0.42053057 0.42656671 0.42734279 0.42397979 0.41966827 0.41363213\n",
            " 0.42053057 0.41527051 0.4135459  0.41708135 0.42811886 0.41794365\n",
            " 0.41276982 0.40673368 0.37946757 0.38440427 0.37749289 0.36811316\n",
            " 0.36860683 0.37354353 0.37946757 0.38223213 0.37650555 0.38319322\n",
            " 0.3839905  0.385106   0.38622844 0.38736498 0.38860926 0.39004084\n",
            " 0.39170223 0.39359948 0.39570993 0.39799312 0.40040013 0.40288216\n",
            " 0.4053975  0.40791413 0.41041133 0.41287857 0.41531327 0.41771847\n",
            " 0.42009956 0.42246291 0.42481369 0.4271549 ]\n",
            "23 day output [[0.42948827]]\n",
            "24 day input [0.43863899 0.45631626 0.46450816 0.45933433 0.45847202 0.46709508\n",
            " 0.46192125 0.47313122 0.46278355 0.44984897 0.42397979 0.43165432\n",
            " 0.44467513 0.43613831 0.43605207 0.43165432 0.44639974 0.45493657\n",
            " 0.44898666 0.43691438 0.43346516 0.45243588 0.46192125 0.44829682\n",
            " 0.46959577 0.48002967 0.47916736 0.52314495 0.5153842  0.50589884\n",
            " 0.50167354 0.48692811 0.49296425 0.49641347 0.47744275 0.46192125\n",
            " 0.45847202 0.45674741 0.44553744 0.4705443  0.44726205 0.44821058\n",
            " 0.46019663 0.45847202 0.45088373 0.45243588 0.44984897 0.44381283\n",
            " 0.43777669 0.42053057 0.42397979 0.42811886 0.41966827 0.42053057\n",
            " 0.42656671 0.42734279 0.42397979 0.41966827 0.41363213 0.42053057\n",
            " 0.41527051 0.4135459  0.41708135 0.42811886 0.41794365 0.41276982\n",
            " 0.40673368 0.37946757 0.38440427 0.37749289 0.36811316 0.36860683\n",
            " 0.37354353 0.37946757 0.38223213 0.37650555 0.38319322 0.3839905\n",
            " 0.385106   0.38622844 0.38736498 0.38860926 0.39004084 0.39170223\n",
            " 0.39359948 0.39570993 0.39799312 0.40040013 0.40288216 0.4053975\n",
            " 0.40791413 0.41041133 0.41287857 0.41531327 0.41771847 0.42009956\n",
            " 0.42246291 0.42481369 0.4271549  0.42948827]\n",
            "24 day output [[0.43181303]]\n",
            "25 day input [0.45631626 0.46450816 0.45933433 0.45847202 0.46709508 0.46192125\n",
            " 0.47313122 0.46278355 0.44984897 0.42397979 0.43165432 0.44467513\n",
            " 0.43613831 0.43605207 0.43165432 0.44639974 0.45493657 0.44898666\n",
            " 0.43691438 0.43346516 0.45243588 0.46192125 0.44829682 0.46959577\n",
            " 0.48002967 0.47916736 0.52314495 0.5153842  0.50589884 0.50167354\n",
            " 0.48692811 0.49296425 0.49641347 0.47744275 0.46192125 0.45847202\n",
            " 0.45674741 0.44553744 0.4705443  0.44726205 0.44821058 0.46019663\n",
            " 0.45847202 0.45088373 0.45243588 0.44984897 0.44381283 0.43777669\n",
            " 0.42053057 0.42397979 0.42811886 0.41966827 0.42053057 0.42656671\n",
            " 0.42734279 0.42397979 0.41966827 0.41363213 0.42053057 0.41527051\n",
            " 0.4135459  0.41708135 0.42811886 0.41794365 0.41276982 0.40673368\n",
            " 0.37946757 0.38440427 0.37749289 0.36811316 0.36860683 0.37354353\n",
            " 0.37946757 0.38223213 0.37650555 0.38319322 0.3839905  0.385106\n",
            " 0.38622844 0.38736498 0.38860926 0.39004084 0.39170223 0.39359948\n",
            " 0.39570993 0.39799312 0.40040013 0.40288216 0.4053975  0.40791413\n",
            " 0.41041133 0.41287857 0.41531327 0.41771847 0.42009956 0.42246291\n",
            " 0.42481369 0.4271549  0.42948827 0.43181303]\n",
            "25 day output [[0.43412778]]\n",
            "26 day input [0.46450816 0.45933433 0.45847202 0.46709508 0.46192125 0.47313122\n",
            " 0.46278355 0.44984897 0.42397979 0.43165432 0.44467513 0.43613831\n",
            " 0.43605207 0.43165432 0.44639974 0.45493657 0.44898666 0.43691438\n",
            " 0.43346516 0.45243588 0.46192125 0.44829682 0.46959577 0.48002967\n",
            " 0.47916736 0.52314495 0.5153842  0.50589884 0.50167354 0.48692811\n",
            " 0.49296425 0.49641347 0.47744275 0.46192125 0.45847202 0.45674741\n",
            " 0.44553744 0.4705443  0.44726205 0.44821058 0.46019663 0.45847202\n",
            " 0.45088373 0.45243588 0.44984897 0.44381283 0.43777669 0.42053057\n",
            " 0.42397979 0.42811886 0.41966827 0.42053057 0.42656671 0.42734279\n",
            " 0.42397979 0.41966827 0.41363213 0.42053057 0.41527051 0.4135459\n",
            " 0.41708135 0.42811886 0.41794365 0.41276982 0.40673368 0.37946757\n",
            " 0.38440427 0.37749289 0.36811316 0.36860683 0.37354353 0.37946757\n",
            " 0.38223213 0.37650555 0.38319322 0.3839905  0.385106   0.38622844\n",
            " 0.38736498 0.38860926 0.39004084 0.39170223 0.39359948 0.39570993\n",
            " 0.39799312 0.40040013 0.40288216 0.4053975  0.40791413 0.41041133\n",
            " 0.41287857 0.41531327 0.41771847 0.42009956 0.42246291 0.42481369\n",
            " 0.4271549  0.42948827 0.43181303 0.43412778]\n",
            "26 day output [[0.43643045]]\n",
            "27 day input [0.45933433 0.45847202 0.46709508 0.46192125 0.47313122 0.46278355\n",
            " 0.44984897 0.42397979 0.43165432 0.44467513 0.43613831 0.43605207\n",
            " 0.43165432 0.44639974 0.45493657 0.44898666 0.43691438 0.43346516\n",
            " 0.45243588 0.46192125 0.44829682 0.46959577 0.48002967 0.47916736\n",
            " 0.52314495 0.5153842  0.50589884 0.50167354 0.48692811 0.49296425\n",
            " 0.49641347 0.47744275 0.46192125 0.45847202 0.45674741 0.44553744\n",
            " 0.4705443  0.44726205 0.44821058 0.46019663 0.45847202 0.45088373\n",
            " 0.45243588 0.44984897 0.44381283 0.43777669 0.42053057 0.42397979\n",
            " 0.42811886 0.41966827 0.42053057 0.42656671 0.42734279 0.42397979\n",
            " 0.41966827 0.41363213 0.42053057 0.41527051 0.4135459  0.41708135\n",
            " 0.42811886 0.41794365 0.41276982 0.40673368 0.37946757 0.38440427\n",
            " 0.37749289 0.36811316 0.36860683 0.37354353 0.37946757 0.38223213\n",
            " 0.37650555 0.38319322 0.3839905  0.385106   0.38622844 0.38736498\n",
            " 0.38860926 0.39004084 0.39170223 0.39359948 0.39570993 0.39799312\n",
            " 0.40040013 0.40288216 0.4053975  0.40791413 0.41041133 0.41287857\n",
            " 0.41531327 0.41771847 0.42009956 0.42246291 0.42481369 0.4271549\n",
            " 0.42948827 0.43181303 0.43412778 0.43643045]\n",
            "27 day output [[0.43871906]]\n",
            "28 day input [0.45847202 0.46709508 0.46192125 0.47313122 0.46278355 0.44984897\n",
            " 0.42397979 0.43165432 0.44467513 0.43613831 0.43605207 0.43165432\n",
            " 0.44639974 0.45493657 0.44898666 0.43691438 0.43346516 0.45243588\n",
            " 0.46192125 0.44829682 0.46959577 0.48002967 0.47916736 0.52314495\n",
            " 0.5153842  0.50589884 0.50167354 0.48692811 0.49296425 0.49641347\n",
            " 0.47744275 0.46192125 0.45847202 0.45674741 0.44553744 0.4705443\n",
            " 0.44726205 0.44821058 0.46019663 0.45847202 0.45088373 0.45243588\n",
            " 0.44984897 0.44381283 0.43777669 0.42053057 0.42397979 0.42811886\n",
            " 0.41966827 0.42053057 0.42656671 0.42734279 0.42397979 0.41966827\n",
            " 0.41363213 0.42053057 0.41527051 0.4135459  0.41708135 0.42811886\n",
            " 0.41794365 0.41276982 0.40673368 0.37946757 0.38440427 0.37749289\n",
            " 0.36811316 0.36860683 0.37354353 0.37946757 0.38223213 0.37650555\n",
            " 0.38319322 0.3839905  0.385106   0.38622844 0.38736498 0.38860926\n",
            " 0.39004084 0.39170223 0.39359948 0.39570993 0.39799312 0.40040013\n",
            " 0.40288216 0.4053975  0.40791413 0.41041133 0.41287857 0.41531327\n",
            " 0.41771847 0.42009956 0.42246291 0.42481369 0.4271549  0.42948827\n",
            " 0.43181303 0.43412778 0.43643045 0.43871906]\n",
            "28 day output [[0.44099244]]\n",
            "29 day input [0.46709508 0.46192125 0.47313122 0.46278355 0.44984897 0.42397979\n",
            " 0.43165432 0.44467513 0.43613831 0.43605207 0.43165432 0.44639974\n",
            " 0.45493657 0.44898666 0.43691438 0.43346516 0.45243588 0.46192125\n",
            " 0.44829682 0.46959577 0.48002967 0.47916736 0.52314495 0.5153842\n",
            " 0.50589884 0.50167354 0.48692811 0.49296425 0.49641347 0.47744275\n",
            " 0.46192125 0.45847202 0.45674741 0.44553744 0.4705443  0.44726205\n",
            " 0.44821058 0.46019663 0.45847202 0.45088373 0.45243588 0.44984897\n",
            " 0.44381283 0.43777669 0.42053057 0.42397979 0.42811886 0.41966827\n",
            " 0.42053057 0.42656671 0.42734279 0.42397979 0.41966827 0.41363213\n",
            " 0.42053057 0.41527051 0.4135459  0.41708135 0.42811886 0.41794365\n",
            " 0.41276982 0.40673368 0.37946757 0.38440427 0.37749289 0.36811316\n",
            " 0.36860683 0.37354353 0.37946757 0.38223213 0.37650555 0.38319322\n",
            " 0.3839905  0.385106   0.38622844 0.38736498 0.38860926 0.39004084\n",
            " 0.39170223 0.39359948 0.39570993 0.39799312 0.40040013 0.40288216\n",
            " 0.4053975  0.40791413 0.41041133 0.41287857 0.41531327 0.41771847\n",
            " 0.42009956 0.42246291 0.42481369 0.4271549  0.42948827 0.43181303\n",
            " 0.43412778 0.43643045 0.43871906 0.44099244]\n",
            "29 day output [[0.4432498]]\n",
            "[[0.3831932246685028], [0.38399049639701843], [0.38510599732398987], [0.38622844219207764], [0.3873649835586548], [0.38860926032066345], [0.3900408446788788], [0.39170223474502563], [0.3935994803905487], [0.39570993185043335], [0.3979931175708771], [0.4004001319408417], [0.4028821587562561], [0.4053975045681], [0.4079141318798065], [0.4104113280773163], [0.4128785729408264], [0.4153132736682892], [0.41771847009658813], [0.42009955644607544], [0.42246291041374207], [0.4248136878013611], [0.42715489864349365], [0.42948827147483826], [0.4318130314350128], [0.4341277778148651], [0.4364304542541504], [0.4387190639972687], [0.44099244475364685], [0.44324979186058044]]\n"
          ]
        }
      ]
    },
    {
      "cell_type": "code",
      "source": [
        "day_new = np.arange(1,101)\n",
        "day_pred = np.arange(101, 131)"
      ],
      "metadata": {
        "id": "ig2WWiMJndSC"
      },
      "execution_count": 29,
      "outputs": []
    },
    {
      "cell_type": "code",
      "source": [
        "df3 = df1.tolist()\n",
        "df3.extend(lst_output)"
      ],
      "metadata": {
        "id": "nN8jYLSznj3U"
      },
      "execution_count": 30,
      "outputs": []
    },
    {
      "cell_type": "code",
      "source": [
        "len(df1)"
      ],
      "metadata": {
        "id": "AbuMUPT4n3Il",
        "outputId": "b6bfe0fe-a42a-46ab-a1a1-52c150334fb4",
        "colab": {
          "base_uri": "https://localhost:8080/"
        }
      },
      "execution_count": 31,
      "outputs": [
        {
          "output_type": "execute_result",
          "data": {
            "text/plain": [
              "2390"
            ]
          },
          "metadata": {},
          "execution_count": 31
        }
      ]
    },
    {
      "cell_type": "code",
      "source": [
        "plt.plot(day_new, scaler.inverse_transform(df1[2290:]))\n",
        "plt.plot(day_pred, scaler.inverse_transform(lst_output))"
      ],
      "metadata": {
        "id": "kb33pELznvzQ",
        "outputId": "3460e050-a536-4f58-d8a7-10c6f51381bc",
        "colab": {
          "base_uri": "https://localhost:8080/",
          "height": 282
        }
      },
      "execution_count": 32,
      "outputs": [
        {
          "output_type": "execute_result",
          "data": {
            "text/plain": [
              "[<matplotlib.lines.Line2D at 0x7f02696d2890>]"
            ]
          },
          "metadata": {},
          "execution_count": 32
        },
        {
          "output_type": "display_data",
          "data": {
            "text/plain": [
              "<Figure size 432x288 with 1 Axes>"
            ],
            "image/png": "[encoded data removed]"
          },
          "metadata": {
            "needs_background": "light"
          }
        }
      ]
    },
    {
      "cell_type": "markdown",
      "source": [
        "Actual Stock Movement"
      ],
      "metadata": {
        "id": "h-Gd6glQrist"
      }
    },
    {
      "cell_type": "markdown",
      "source": [
        "<img src=\"data:image/png;base64,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\" height='200'>"
      ],
      "metadata": {
        "id": "XUV4GLjaq8C0"
      }
    }
  ]
}