{
  "nbformat": 4,
  "nbformat_minor": 0,
  "metadata": {
    "colab": {
      "provenance": [],
      "authorship_tag": "ABX9TyMDU1cr0es/NYh/Gn+W0EbW",
      "include_colab_link": true
    },
    "kernelspec": {
      "name": "python3",
      "display_name": "Python 3"
    },
    "language_info": {
      "name": "python"
    }
  },
  "cells": [
    {
      "cell_type": "markdown",
      "metadata": {
        "id": "view-in-github",
        "colab_type": "text"
      },
      "source": [
        "<a href=\"https://colab.research.google.com/github/salimshrestha98/Stock-Price-Prediction-And-Forecasting-Using-Stacked-LSTM/blob/main/src/Preprocesing.ipynb\" target=\"_parent\"><img src=\"https://colab.research.google.com/assets/colab-badge.svg\" alt=\"Open In Colab\"/></a>"
      ]
    },
    {
      "cell_type": "markdown",
      "source": [
        "### **Stock Price Prediction And Forecasting Using Stacked LSTM- Deep Learning**"
      ],
      "metadata": {
        "id": "SjOS9gGgGiQo"
      }
    },
    {
      "cell_type": "code",
      "source": [
        "import numpy as np\n",
        "import pandas as pd\n",
        "import matplotlib.pyplot as plt"
      ],
      "metadata": {
        "id": "4EicQS6DGoUX"
      },
      "execution_count": 12,
      "outputs": []
    },
    {
      "cell_type": "code",
      "source": [
        "df = pd.read_csv('https://github.com/salimshrestha98/Stock-Price-Prediction-And-Forecasting-Using-Stacked-LSTM/raw/main/data/ALICL.csv', index_col='Date')"
      ],
      "metadata": {
        "id": "OG4YL5xmGxwT"
      },
      "execution_count": 13,
      "outputs": []
    },
    {
      "cell_type": "code",
      "source": [
        "## Only extract the Close price column.\n",
        "df1 = df.c"
      ],
      "metadata": {
        "id": "s373gJA0HAp4"
      },
      "execution_count": 14,
      "outputs": []
    },
    {
      "cell_type": "code",
      "source": [
        "plt.plot(df1)\n",
        "plt.title('Stock chart of ALICL')\n",
        "plt.ylabel('Price')\n",
        "plt.show()"
      ],
      "metadata": {
        "colab": {
          "base_uri": "https://localhost:8080/",
          "height": 281
        },
        "id": "bLZkODLbHeEE",
        "outputId": "5abebc69-e404-487a-b8b3-cb7209970d12"
      },
      "execution_count": 15,
      "outputs": [
        {
          "output_type": "display_data",
          "data": {
            "text/plain": [
              "<Figure size 432x288 with 1 Axes>"
            ],
            "image/png": "[encoded data removed]"
          },
          "metadata": {
            "needs_background": "light"
          }
        }
      ]
    },
    {
      "cell_type": "code",
      "source": [
        "from sklearn.preprocessing import MinMaxScaler\n",
        "scaler = MinMaxScaler( feature_range=(0,1) )\n",
        "df1 = scaler.fit_transform(np.array(df1).reshape(-1,1))"
      ],
      "metadata": {
        "id": "Pgtr-FRHJmNp"
      },
      "execution_count": 16,
      "outputs": []
    },
    {
      "cell_type": "markdown",
      "source": [
        "Explaination:\n",
        "\n",
        "---\n",
        "\n",
        "Here, we scale the price index between zero(0) and one(1). For this purpose we utilize the MinMaxScaler provided by the sklearn library.\n",
        "We convert the data into one dimensional numpy array before feeding it to the scaler."
      ],
      "metadata": {
        "id": "POCjTm9VOL6l"
      }
    },
    {
      "cell_type": "code",
      "source": [],
      "metadata": {
        "id": "J2_wueaPOyft"
      },
      "execution_count": 16,
      "outputs": []
    },
    {
      "cell_type": "markdown",
      "source": [],
      "metadata": {
        "id": "i0Taif24Oxi1"
      }
    }
  ]
}