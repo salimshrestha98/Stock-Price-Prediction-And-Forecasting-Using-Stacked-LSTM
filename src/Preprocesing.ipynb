{
  "nbformat": 4,
  "nbformat_minor": 0,
  "metadata": {
    "colab": {
      "provenance": [],
      "authorship_tag": "ABX9TyNUngg3kQUtzIvP7f9F9l3Q"
    },
    "kernelspec": {
      "name": "python3",
      "display_name": "Python 3"
    },
    "language_info": {
      "name": "python"
    }
  },
  "cells": [
    {
      "cell_type": "markdown",
      "source": [
        "### **Stock Price Prediction And Forecasting Using Stacked LSTM- Deep Learning**"
      ],
      "metadata": {
        "id": "SjOS9gGgGiQo"
      }
    },
    {
      "cell_type": "code",
      "source": [
        "import numpy as np\n",
        "import pandas as pd\n",
        "import matplotlib.pyplot as plt"
      ],
      "metadata": {
        "id": "4EicQS6DGoUX"
      },
      "execution_count": 1,
      "outputs": []
    },
    {
      "cell_type": "code",
      "source": [
        "df = pd.read_csv('https://github.com/salimshrestha98/Stock-Price-Prediction-And-Forecasting-Using-Stacked-LSTM/raw/main/data/ALICL.csv', index_col='Date')"
      ],
      "metadata": {
        "id": "OG4YL5xmGxwT"
      },
      "execution_count": 2,
      "outputs": []
    },
    {
      "cell_type": "code",
      "source": [
        "## Only extract the Close price column.\n",
        "df1 = df.c"
      ],
      "metadata": {
        "id": "s373gJA0HAp4"
      },
      "execution_count": 3,
      "outputs": []
    },
    {
      "cell_type": "code",
      "source": [
        "plt.plot(df1)\n",
        "plt.title('Stock chart of ALICL')\n",
        "plt.ylabel('Price')\n",
        "plt.show()"
      ],
      "metadata": {
        "colab": {
          "base_uri": "https://localhost:8080/",
          "height": 281
        },
        "id": "bLZkODLbHeEE",
        "outputId": "d87e64a5-282b-405c-c4eb-e0fa85212ae0"
      },
      "execution_count": 4,
      "outputs": [
        {
          "output_type": "display_data",
          "data": {
            "text/plain": [
              "<Figure size 432x288 with 1 Axes>"
            ],
            "image/png": "[encoded data removed]"
          },
          "metadata": {
            "needs_background": "light"
          }
        }
      ]
    },
    {
      "cell_type": "code",
      "source": [
        "from sklearn.preprocessing import MinMaxScaler\n",
        "scaler = MinMaxScaler( feature_range=(0,1) )\n",
        "df1 = scaler.fit_transform(np.array(df1).reshape(-1,1))"
      ],
      "metadata": {
        "id": "Pgtr-FRHJmNp"
      },
      "execution_count": 5,
      "outputs": []
    },
    {
      "cell_type": "markdown",
      "source": [
        "Explaination:\n",
        "\n",
        "---\n",
        "\n",
        "Here, we scale the price index between zero(0) and one(1). For this purpose we utilize the MinMaxScaler provided by the sklearn library.\n",
        "We convert the data into one dimensional numpy array before feeding it to the scaler."
      ],
      "metadata": {
        "id": "POCjTm9VOL6l"
      }
    },
    {
      "cell_type": "markdown",
      "source": [
        "**Train Test Split**\n",
        "\n",
        "---\n",
        "\n",
        "\n",
        "We have many ways to split the data into train and test sets.  \n",
        "But, with time series data, we cannot split the data on random.  \n",
        "So, here we take 65% of our data as train data and remaining data as test data."
      ],
      "metadata": {
        "id": "M7_kiTVNP31m"
      }
    },
    {
      "cell_type": "code",
      "source": [
        "training_size = int(len(df1)*0.65)\n",
        "test_size = len(df1) - training_size\n",
        "train_data, test_data = df1[:training_size, :], df1[training_size:len(df1), :]"
      ],
      "metadata": {
        "id": "o1OCJW8uQdEf"
      },
      "execution_count": 6,
      "outputs": []
    },
    {
      "cell_type": "code",
      "source": [
        "training_size,test_size"
      ],
      "metadata": {
        "colab": {
          "base_uri": "https://localhost:8080/"
        },
        "id": "9lGcKK02Q9_8",
        "outputId": "75d6871d-bb07-4f86-940f-966df4118802"
      },
      "execution_count": 7,
      "outputs": [
        {
          "output_type": "execute_result",
          "data": {
            "text/plain": [
              "(1553, 837)"
            ]
          },
          "metadata": {},
          "execution_count": 7
        }
      ]
    },
    {
      "cell_type": "markdown",
      "source": [
        "Now, we have 1553 instances in our training set and 837 instances in our test set."
      ],
      "metadata": {
        "id": "FR105F4WRG7h"
      }
    },
    {
      "cell_type": "markdown",
      "source": [
        "Computing Timesteps\n",
        "\n",
        "---\n",
        "\n",
        "Timesteps are the number of previous values to use to predict the next value.\n",
        "[See Example Here](https://prnt.sc/r8--zzZ_Pb2v)  \n",
        "Now, we convert an array of values into a dataset matrix."
      ],
      "metadata": {
        "id": "wSwMfUZGRwS9"
      }
    },
    {
      "cell_type": "code",
      "source": [
        "def create_dataset( dataset, time_step=1 ):\n",
        "  dataX, dataY = [], []\n",
        "  for i in range( len(dataset) - time_step - 1 ):\n",
        "    a = dataset[i:(i+time_step), 0]\n",
        "    dataX.append(a)\n",
        "    dataY.append(dataset[i + time_step, 0])\n",
        "  return np.array(dataX), np.array(dataY)"
      ],
      "metadata": {
        "id": "1HW5tFjUSUh7"
      },
      "execution_count": 8,
      "outputs": []
    },
    {
      "cell_type": "markdown",
      "source": [
        "Suppose the initial dataset is as follows:  \n",
        "`dataset = [10, 12, 14, 16, 18, 20]`  \n",
        "And, the time step is 3:  \n",
        "`time_step = 3`  \n",
        "\n",
        "Iteration 1:\n",
        "```\n",
        "i = 0\n",
        "a = [10, 12, 14]\n",
        "dataX = [[10, 12, 14]]\n",
        "dataY = [16]\n",
        "```\n",
        "\n",
        "Iteration 2:\n",
        "```\n",
        "i = 1\n",
        "a = [12, 14, 16]\n",
        "dataX = [[10, 12, 14], [12, 14, 16]]\n",
        "dataY = [16, 18]\n",
        "```\n",
        "\n",
        "Iteration 3:\n",
        "```\n",
        "i = 2\n",
        "a = [14, 16, 18]\n",
        "dataX = [[10, 12, 14], [12, 14, 16], [14, 16, 18]]\n",
        "dataY = [16, 18, 20]\n",
        "```\n",
        "\n",
        "So, finally we get:\n",
        "```\n",
        "x1   x2   x3  | o/p\n",
        "10   12   14  | 16\n",
        "12   14   16  | 18\n",
        "14   16   18  | 20\n",
        "```"
      ],
      "metadata": {
        "id": "8_fnYArsUmfu"
      }
    },
    {
      "cell_type": "code",
      "source": [
        "time_step = 100\n",
        "X_train, y_train = create_dataset( train_data, time_step)\n",
        "X_test, y_test = create_dataset( test_data, time_step)"
      ],
      "metadata": {
        "id": "WiLnpCBPRBAm"
      },
      "execution_count": 17,
      "outputs": []
    },
    {
      "cell_type": "code",
      "source": [
        "X_train.shape, y_train.shape"
      ],
      "metadata": {
        "colab": {
          "base_uri": "https://localhost:8080/"
        },
        "id": "73OQJz74XQc1",
        "outputId": "c2214ffe-5c43-45f7-ea86-d0639dca7579"
      },
      "execution_count": 18,
      "outputs": [
        {
          "output_type": "execute_result",
          "data": {
            "text/plain": [
              "((1452, 100), (1452,))"
            ]
          },
          "metadata": {},
          "execution_count": 18
        }
      ]
    },
    {
      "cell_type": "code",
      "source": [
        "X_test.shape, y_test.shape"
      ],
      "metadata": {
        "colab": {
          "base_uri": "https://localhost:8080/"
        },
        "id": "yUPlPTv_Xcie",
        "outputId": "b40c8462-14bf-4570-8c73-4067a78e5c8a"
      },
      "execution_count": 19,
      "outputs": [
        {
          "output_type": "execute_result",
          "data": {
            "text/plain": [
              "((736, 100), (736,))"
            ]
          },
          "metadata": {},
          "execution_count": 19
        }
      ]
    },
    {
      "cell_type": "markdown",
      "source": [
        "Currently, our data is two dimensional.  \n",
        "We need to reshape the input into three dimensions to feed into LSTM model.  \n",
        "Dimension 1: Samples  \n",
        "Dimension 2: Time Steps  \n",
        "Dimension 3: Features  "
      ],
      "metadata": {
        "id": "yLQM7yMwYEfE"
      }
    },
    {
      "cell_type": "code",
      "source": [
        "print(\"X_train before reshape: \")\n",
        "print(X_train[0])"
      ],
      "metadata": {
        "id": "DsUdBCgVYrnB",
        "outputId": "07fc47a3-c1a5-40a9-f757-db4dba6cb2ed",
        "colab": {
          "base_uri": "https://localhost:8080/"
        }
      },
      "execution_count": 20,
      "outputs": [
        {
          "output_type": "stream",
          "name": "stdout",
          "text": [
            "X_train before reshape: \n",
            "[0.00211004 0.00310299 0.00347535 0.00273063 0.0024824  0.00285475\n",
            " 0.00260651 0.00285475 0.00297887 0.00335123 0.00322711 0.00310299\n",
            " 0.00173768 0.00173768 0.00049648 0.00012412 0.00086884 0.\n",
            " 0.         0.00024824 0.00148944 0.00198592 0.0012412  0.00099296\n",
            " 0.00086884 0.00099296 0.0006206  0.0006206  0.00037236 0.00024824\n",
            " 0.00012412 0.00099296 0.00024824 0.00074472 0.00086884 0.00086884\n",
            " 0.00099296 0.00099296 0.00148944 0.00148944 0.00297887 0.00335123\n",
            " 0.00359947 0.00397183 0.00471655 0.00533715 0.00533715 0.00744719\n",
            " 0.00992958 0.0106743  0.00968134 0.0106743  0.01166726 0.01166726\n",
            " 0.00893662 0.00806778 0.00657835 0.00459243 0.00570951 0.00719895\n",
            " 0.00707483 0.0094331  0.00781954 0.00682659 0.00806778 0.00968134\n",
            " 0.00633011 0.00446831 0.00670247 0.00781954 0.00806778 0.00794366\n",
            " 0.00757131 0.00781954 0.00682659 0.00670247 0.00719895 0.00670247\n",
            " 0.00622088 0.00858536 0.00842773 0.00700904 0.00622088 0.00858536\n",
            " 0.00953116 0.01142274 0.01047695 0.01094984 0.0122109  0.01236853\n",
            " 0.01142274 0.01094984 0.01079221 0.01079221 0.01079221 0.01173801\n",
            " 0.01189564 0.01236853 0.01158037 0.01110748]\n"
          ]
        }
      ]
    },
    {
      "cell_type": "code",
      "source": [
        "X_train = X_train.reshape(X_train.shape[0], X_train.shape[1], 1)\n",
        "X_test = X_test.reshape(X_test.shape[0], X_test.shape[1], 1)"
      ],
      "metadata": {
        "id": "yq4wqtvUXeFg"
      },
      "execution_count": 21,
      "outputs": []
    },
    {
      "cell_type": "code",
      "source": [
        "print(\"X_train after reshape: \")\n",
        "print(X_train[0])"
      ],
      "metadata": {
        "id": "l0UtHsoQY319",
        "outputId": "e98f1280-d973-4122-8c93-b1e3d4e4d076",
        "colab": {
          "base_uri": "https://localhost:8080/"
        }
      },
      "execution_count": 22,
      "outputs": [
        {
          "output_type": "stream",
          "name": "stdout",
          "text": [
            "X_train after reshape: \n",
            "[[0.00211004]\n",
            " [0.00310299]\n",
            " [0.00347535]\n",
            " [0.00273063]\n",
            " [0.0024824 ]\n",
            " [0.00285475]\n",
            " [0.00260651]\n",
            " [0.00285475]\n",
            " [0.00297887]\n",
            " [0.00335123]\n",
            " [0.00322711]\n",
            " [0.00310299]\n",
            " [0.00173768]\n",
            " [0.00173768]\n",
            " [0.00049648]\n",
            " [0.00012412]\n",
            " [0.00086884]\n",
            " [0.        ]\n",
            " [0.        ]\n",
            " [0.00024824]\n",
            " [0.00148944]\n",
            " [0.00198592]\n",
            " [0.0012412 ]\n",
            " [0.00099296]\n",
            " [0.00086884]\n",
            " [0.00099296]\n",
            " [0.0006206 ]\n",
            " [0.0006206 ]\n",
            " [0.00037236]\n",
            " [0.00024824]\n",
            " [0.00012412]\n",
            " [0.00099296]\n",
            " [0.00024824]\n",
            " [0.00074472]\n",
            " [0.00086884]\n",
            " [0.00086884]\n",
            " [0.00099296]\n",
            " [0.00099296]\n",
            " [0.00148944]\n",
            " [0.00148944]\n",
            " [0.00297887]\n",
            " [0.00335123]\n",
            " [0.00359947]\n",
            " [0.00397183]\n",
            " [0.00471655]\n",
            " [0.00533715]\n",
            " [0.00533715]\n",
            " [0.00744719]\n",
            " [0.00992958]\n",
            " [0.0106743 ]\n",
            " [0.00968134]\n",
            " [0.0106743 ]\n",
            " [0.01166726]\n",
            " [0.01166726]\n",
            " [0.00893662]\n",
            " [0.00806778]\n",
            " [0.00657835]\n",
            " [0.00459243]\n",
            " [0.00570951]\n",
            " [0.00719895]\n",
            " [0.00707483]\n",
            " [0.0094331 ]\n",
            " [0.00781954]\n",
            " [0.00682659]\n",
            " [0.00806778]\n",
            " [0.00968134]\n",
            " [0.00633011]\n",
            " [0.00446831]\n",
            " [0.00670247]\n",
            " [0.00781954]\n",
            " [0.00806778]\n",
            " [0.00794366]\n",
            " [0.00757131]\n",
            " [0.00781954]\n",
            " [0.00682659]\n",
            " [0.00670247]\n",
            " [0.00719895]\n",
            " [0.00670247]\n",
            " [0.00622088]\n",
            " [0.00858536]\n",
            " [0.00842773]\n",
            " [0.00700904]\n",
            " [0.00622088]\n",
            " [0.00858536]\n",
            " [0.00953116]\n",
            " [0.01142274]\n",
            " [0.01047695]\n",
            " [0.01094984]\n",
            " [0.0122109 ]\n",
            " [0.01236853]\n",
            " [0.01142274]\n",
            " [0.01094984]\n",
            " [0.01079221]\n",
            " [0.01079221]\n",
            " [0.01079221]\n",
            " [0.01173801]\n",
            " [0.01189564]\n",
            " [0.01236853]\n",
            " [0.01158037]\n",
            " [0.01110748]]\n"
          ]
        }
      ]
    }
  ]
}